{
  "cells": [
    {
      "cell_type": "markdown",
      "metadata": {
        "id": "7UmDLX5Q9IaB"
      },
      "source": [
        "![header-notebooks.png](data:image/png;base64,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)\n",
        "\n",
        "Prática da **Aula 06: Coleta de Dados II**, do curso de **Data Science** da **[Awari](https://awari.com.br/)**. Para utilizá-la, vá no menu \"Arquivo\" e, em seguida, na opção \"Salvar uma cópia no Drive\". Isto criará uma cópia deste notebook em uma pasta chamada \"Colab Notebooks\", no seu Google Drive pessoal. Use a cópia para criar novas células de código ou executar as células desta prática.\n",
        "\n",
        "---"
      ]
    },
    {
      "cell_type": "markdown",
      "metadata": {
        "id": "UAzzx3dfnmdk"
      },
      "source": [
        "# **SQL com Python e SQLite**"
      ]
    },
    {
      "cell_type": "markdown",
      "metadata": {
        "id": "60cbiApJ9dlf"
      },
      "source": [
        "## **O que é SQL?**\n",
        "\n",
        "**SQL** significa *Structured Query Language*, ou \"Linguagem de Consulta Estruturada\". Resumidamente, é uma linguagem de programação para lidar com banco de dados relacionais (baseado em tabelas)."
      ]
    },
    {
      "cell_type": "markdown",
      "metadata": {
        "id": "5bCO3cD59lfO"
      },
      "source": [
        "## **O que é SQLite?**\n",
        "\n",
        "**SQLite** é um banco de dados relacional que, diferentemente de outras ferramentas do tipo, não armazena informações em um servidor.\n",
        "\n",
        "Essa independência acontece porque ele consegue colocar os seus arquivos dentro de si próprio.\n",
        "\n",
        "A documentação de SQLite está disponível em: https://docs.python.org/3/library/sqlite3.html."
      ]
    },
    {
      "cell_type": "markdown",
      "metadata": {
        "id": "8jbZL0KG955_"
      },
      "source": [
        "## **SQL com SLite na prática**\n",
        "\n",
        "A partir daqui, vamos importar o SQLite e aprender como usar a linguagem SQL.\n",
        "\n",
        "Note que SQL não é usada apenas no banco de dados SQLite, mas em qualquer banco de dados relacional, como MySQL, Postgres, entre outros.\n",
        "\n",
        "Aprendê-la, portanto, garante meios de lidar com diversos softwares de bancos de dados."
      ]
    },
    {
      "cell_type": "markdown",
      "metadata": {
        "id": "YQC37xgR-x9l"
      },
      "source": [
        "### **Instalação e importação de pacotes**\n",
        "\n",
        "O primeiro passo é instalar as bibliotecas **Pandas** e **SQLite** para uso nesta prática:"
      ]
    },
    {
      "cell_type": "code",
      "execution_count": 1,
      "metadata": {
        "id": "odF4t4FrRQU9"
      },
      "outputs": [],
      "source": [
        "# Importando Pandas e SQLite3\n",
        "import pandas as pd\n",
        "import sqlite3"
      ]
    },
    {
      "cell_type": "markdown",
      "metadata": {
        "id": "90WOqse5DnQx"
      },
      "source": [
        "O passo a seguir será necessário para etapas adiante nesta nossa prática. Ele instala um recurso para podermos ler arquivos do Microsoft Excel (com a extensão \".xls\") no Google Colab.\n",
        "\n",
        "```bash\n",
        "# Instalando recurso para ler \".xls\" no Google Colab\n",
        "!pip install --upgrade xlrd"
      ]
    },
    {
      "cell_type": "markdown",
      "metadata": {
        "id": "LfI6JKSVpI27"
      },
      "source": [
        "Com isto, podemos começar a praticar."
      ]
    },
    {
      "cell_type": "markdown",
      "metadata": {
        "id": "RJyzqwcTEODs"
      },
      "source": [
        "### **Criando um banco de dados no SQLite3**\n",
        "\n",
        "O SQLite3 é um sistema de banco de dados. Para usá-lo, precisamos, primeiro, criar um banco de dados dentro dele para uso. Fazemos isso da seguinte forma:"
      ]
    },
    {
      "cell_type": "code",
      "execution_count": 2,
      "metadata": {
        "id": "fxWCKGG0p9Tc"
      },
      "outputs": [],
      "source": [
        "# Seta conexão com o SQLite\n",
        "con  = sqlite3.connect('teste.db')"
      ]
    },
    {
      "cell_type": "code",
      "execution_count": 3,
      "metadata": {
        "id": "BkkP4EGcqngb"
      },
      "outputs": [],
      "source": [
        "# Cria um cursor (recurso do SQLite) para executar instruções SQL\n",
        "cur = con.cursor()"
      ]
    },
    {
      "cell_type": "markdown",
      "metadata": {
        "id": "0Ght7zwgq0H5"
      },
      "source": [
        "### **Criando tabelas no banco de dados**\n",
        "\n",
        "Agora, podemos criar tabelas no banco de dados. A sintaxe (forma de escrita) em SQL para isso está descrita a seguir.\n",
        "\n",
        "**Sintaxe:**\n",
        "\n",
        "```\n",
        "CREATE TABLE nome_da_tabela (\n",
        "    coluna1 tipo_dados,\n",
        "    coluna2 tipo_dados,\n",
        "    coluna3 tipo_dados,\n",
        "   ....\n",
        ")\n",
        "```\n",
        "\n",
        "Os parâmetros ```coluna``` especificam os nomes das colunas da tabela, enquanto os parâmetros ```tipo_dados``` especifica o tipo de dados que a coluna pode conter (por exemplo, ```varchar``` para sequências de caracteres, ```integer``` para números inteiros, ```date``` para datas etc.).\n",
        "\n",
        "Usamos o método `execute` do cursor para executar instruções."
      ]
    },
    {
      "cell_type": "code",
      "execution_count": 4,
      "metadata": {
        "id": "W207amDmrUFu"
      },
      "outputs": [],
      "source": [
        "# Criando uma tabela\n",
        "cur.execute(\n",
        "    'CREATE TABLE teste ( nome varchar, idade integer, cpf integer(11) )'\n",
        ")\n",
        "\n",
        "# Confirmando a criação da tabela\n",
        "con.commit()"
      ]
    },
    {
      "cell_type": "code",
      "execution_count": 5,
      "metadata": {
        "id": "-lWbm5AcMrIZ"
      },
      "outputs": [],
      "source": [
        "# Criando outra tabela\n",
        "cur.execute(\n",
        "    'CREATE TABLE outratabela ( nome varchar, idade integer, cpf integer(11) )'\n",
        ")\n",
        "\n",
        "# Confirmando a criação desta outra tabela\n",
        "con.commit()"
      ]
    },
    {
      "cell_type": "markdown",
      "metadata": {
        "id": "lrwQi8XlsIQ8"
      },
      "source": [
        "#### **Verificando se as tabelas foram criadas**\n",
        "\n",
        "Podemos verificar se a nova tabela foi criada consultando a tabela incorporada ao SQLite chamada `sqlite_master`, que agora deve conter uma entrada `teste`.\n",
        "\n",
        "Utilizaremos o método `fetchall()` para retornar todas as linhas de um resultado de uma consulta dentro de uma lista."
      ]
    },
    {
      "cell_type": "code",
      "execution_count": 6,
      "metadata": {
        "id": "wJ_k4cxxsl4R"
      },
      "outputs": [
        {
          "data": {
            "text/plain": [
              "[('teste',), ('outratabela',)]"
            ]
          },
          "execution_count": 6,
          "metadata": {},
          "output_type": "execute_result"
        }
      ],
      "source": [
        "# Verificando se as tabelas foram criadas\n",
        "cur.execute(\"SELECT name FROM sqlite_master\").fetchall()"
      ]
    },
    {
      "cell_type": "markdown",
      "metadata": {
        "id": "aMoehaglIlfW"
      },
      "source": [
        "### **CRUD (*Create*, *Read*, *Update*, *Delete*)**\n",
        "\n",
        "A seguir, vamos ver as quatro operações fundamentais feitas em bancos de dados, apelidada de **CRUD**, iniciais das seguintes ações:\n",
        "\n",
        "- **C**reate: ato de criar (ou inserir) dados em um banco de dados;\n",
        "- **R**read: ato de ler (ou \"selecionar\" ou, ainda, exibir) dados registrados um banco de dados;\n",
        "- **U**pdate: ato de atualizar (alterar, modificar, substituir etc.) dados registrados um banco de dados;\n",
        "- **D**elete: ato de excluir dados registrados um banco de dados."
      ]
    },
    {
      "cell_type": "markdown",
      "metadata": {
        "id": "9uYH51kktBZR"
      },
      "source": [
        "#### **Inserindo dados em uma tabela já criada**\n",
        "\n",
        "```INSERT INTO``` é a instrução SQL usada para inserir novos registros em uma tabela. É a ação *create* do CRUD.\n",
        "\n",
        "**Sintaxe:**\n",
        "\n",
        "```\n",
        "INSERT INTO nome_da_tabela  (coluna1, coluna2, coluna3, ...)\n",
        "```"
      ]
    },
    {
      "cell_type": "code",
      "execution_count": 7,
      "metadata": {
        "id": "PxDYxslGtd58"
      },
      "outputs": [],
      "source": [
        "## Inserindo dados na tabela \"testes\"\n",
        "cur.execute(\"\"\"\n",
        "          INSERT INTO teste VALUES\n",
        "            ('Fulano de tal', 35, 12345678910),\n",
        "            ('Fulana Ana', 40, 12345678911)\n",
        "          \"\"\")\n",
        "\n",
        "## Confirmando a ação\n",
        "con.commit()"
      ]
    },
    {
      "cell_type": "markdown",
      "metadata": {
        "id": "FYOVnC7Zt-Au"
      },
      "source": [
        "#### **Selecionando registros de uma tabela**\n",
        "\n",
        "```SELECT``` é a instrução SQL para selecionar dados de um banco de dados. É a ação *read* do CRUD.\n",
        "\n",
        "**Sintaxe:**\n",
        "\n",
        "```\n",
        "SELECT * FROM nome_da_tabela\n",
        "SELECT coluna1, coluna1, coluna3, ... FROM nome_da_tabela\n",
        "```"
      ]
    },
    {
      "cell_type": "code",
      "execution_count": 8,
      "metadata": {
        "id": "LAuj9lqtuRay"
      },
      "outputs": [
        {
          "data": {
            "text/plain": [
              "[('Fulano de tal', 35, 12345678910), ('Fulana Ana', 40, 12345678911)]"
            ]
          },
          "execution_count": 8,
          "metadata": {},
          "output_type": "execute_result"
        }
      ],
      "source": [
        "# Exibindo todos os registros da tabela teste\n",
        "cur.execute(\"SELECT * FROM teste\").fetchall()"
      ]
    },
    {
      "cell_type": "code",
      "execution_count": 9,
      "metadata": {
        "id": "IH4QpA9DuZu5"
      },
      "outputs": [
        {
          "data": {
            "text/plain": [
              "[('Fulano de tal', 35), ('Fulana Ana', 40)]"
            ]
          },
          "execution_count": 9,
          "metadata": {},
          "output_type": "execute_result"
        }
      ],
      "source": [
        "# Exibindo apenas os registros \"nome\" e \"idade\" da tabela teste\n",
        "cur.execute(\"SELECT nome, idade FROM teste\").fetchall()"
      ]
    },
    {
      "cell_type": "markdown",
      "metadata": {
        "id": "yB5btYOtu3Jm"
      },
      "source": [
        "#### **Atualizando dados de uma tabela**\n",
        "\n",
        "```UPDATE``` é a instrução SQL para modificar os registros existentes em uma tabela. É a ação *update* do CRUD.\n",
        "\n",
        "**Sintaxe:**\n",
        "\n",
        "```\n",
        "UPDATE nome_da_tabela\n",
        "SET coluna_que_deseja_mudar = 'novo_valor'\n",
        "WHERE coluna_condicional IS NOT NULL\n",
        "```"
      ]
    },
    {
      "cell_type": "code",
      "execution_count": 10,
      "metadata": {
        "id": "dNqZMTMavdld"
      },
      "outputs": [
        {
          "data": {
            "text/plain": [
              "[]"
            ]
          },
          "execution_count": 10,
          "metadata": {},
          "output_type": "execute_result"
        }
      ],
      "source": [
        "# Atualizando dados da tabela teste\n",
        "cur.execute(\n",
        "'''\n",
        "UPDATE teste\n",
        "SET idade = '36'\n",
        "WHERE nome = 'Fulano de tal'\n",
        "'''\n",
        ").fetchall()"
      ]
    },
    {
      "cell_type": "code",
      "execution_count": 11,
      "metadata": {
        "id": "rwfMerkgu2a8"
      },
      "outputs": [
        {
          "data": {
            "text/plain": [
              "[(36,)]"
            ]
          },
          "execution_count": 11,
          "metadata": {},
          "output_type": "execute_result"
        }
      ],
      "source": [
        "# Exibindo a atualização realizada\n",
        "cur.execute(\n",
        "'''\n",
        "SELECT idade\n",
        "FROM teste\n",
        "WHERE nome = 'Fulano de tal'\n",
        "'''\n",
        ").fetchall()"
      ]
    },
    {
      "cell_type": "markdown",
      "metadata": {
        "id": "FrfF5dn9v_xL"
      },
      "source": [
        "#### **Deletando dados em tabelas**\n",
        "\n",
        "```DELETE``` é a instrução usada para excluir registros existentes em uma tabela. É a ação *delete* do CRUD.\n",
        "\n",
        "**Sintaxe:**\n",
        "\n",
        "```\n",
        "DELETE from nome_da_tabela\n",
        "WHERE coluna_desejada = 'valor_condição_para_exclusão'\n",
        "```"
      ]
    },
    {
      "cell_type": "code",
      "execution_count": 12,
      "metadata": {
        "id": "Lh7kXX26wc_d"
      },
      "outputs": [
        {
          "data": {
            "text/plain": [
              "[]"
            ]
          },
          "execution_count": 12,
          "metadata": {},
          "output_type": "execute_result"
        }
      ],
      "source": [
        "# Excluindo registros de uma tabela\n",
        "cur.execute(\n",
        "'''\n",
        "DELETE from teste\n",
        "WHERE nome = 'Fulana Ana'\n",
        "'''\n",
        ").fetchall()"
      ]
    },
    {
      "cell_type": "code",
      "execution_count": 13,
      "metadata": {
        "id": "T9vdB0frwkGX"
      },
      "outputs": [
        {
          "data": {
            "text/plain": [
              "[('Fulano de tal', 36, 12345678910)]"
            ]
          },
          "execution_count": 13,
          "metadata": {},
          "output_type": "execute_result"
        }
      ],
      "source": [
        "# Excluindo todos os registros que restaram na tabela\n",
        "cur.execute(\n",
        "'''\n",
        "SELECT *\n",
        "FROM teste\n",
        "'''\n",
        ").fetchall()"
      ]
    },
    {
      "cell_type": "markdown",
      "metadata": {
        "id": "1s9TwenQws3w"
      },
      "source": [
        "## **Usando Pandas para realizar consultas**\n",
        "\n",
        "A partir daqui, vamos usar o Pandas, em conjunto com o SQLite, para realizar operações no banco de dados.\n",
        "\n",
        "Para isso, primeiro, vamos importar um arquivo \".xls\" (formato do Microfost Excel), com o qual alimentaremos um banco de dados."
      ]
    },
    {
      "cell_type": "markdown",
      "metadata": {
        "id": "BytBF3PmpToK"
      },
      "source": [
        "### **Importando arquivo .xls**\n",
        "\n",
        "O arquivo que usaremos se chama [Global Store.xls](https://docs.google.com/spreadsheets/d/197zdFw9qpF4tyEBt-hu2NjJBRkbJm4b-/edit?usp=share_link&ouid=116814618168396531193&rtpof=true&sd=true). Clique no link para acessá-lo.\n",
        "\n",
        "Você pode copiá-lo para seu Google Drive ou fazer download dele para seu computador e depois fazer upload para o Google Drive.\n",
        "\n",
        "Lembre-se de salvá-lo ou fazer upload na pasta raiz (pasta inicial) de seu Google Drive ou dentro da pasta \"Colab Notebooks\", já que facilita o uso no Colab.\n",
        "\n",
        "**Também no Kaggle**\n",
        "\n",
        "O arquivo também está disponível no Kaggle, como [Global Superstore](https://www.kaggle.com/datasets/shekpaul/global-superstore), um conjunto de dados disponível para análises estatísticas e visualizações.\n",
        "\n",
        "Lá, porém, o arquivo está em formato \".zip\" e é necessário descompactá-lo para poder usá-lo."
      ]
    },
    {
      "cell_type": "markdown",
      "metadata": {
        "id": "3x6cqrqAMLXl"
      },
      "source": [
        "#### **Montagem do drive**\n",
        "\n",
        "Para acessarmos arquivos do Google Drive no Colab, é preciso repetir os passos vistos na aula anterior, relativos à montagem do drive. Para isso, executamos:"
      ]
    },
    {
      "cell_type": "code",
      "execution_count": null,
      "metadata": {
        "id": "4GfAbdoZMdMs"
      },
      "outputs": [],
      "source": [
        "# Carrega biblioteca necessária\n",
        "from google.colab import drive\n",
        "\n",
        "# Montagem do drive\n",
        "drive.mount('/content/drive', force_remount=True)"
      ]
    },
    {
      "cell_type": "markdown",
      "metadata": {
        "id": "X4d8BNWINbMY"
      },
      "source": [
        "#### **Carregando o arquivo \"Global Superstore.xls\"**\n",
        "\n",
        "Vamos, então, carregar o arquivo \"Global Superstore.xls\" para um DataFrame do Pandas:"
      ]
    },
    {
      "cell_type": "code",
      "execution_count": null,
      "metadata": {
        "id": "NlbONedOS4Xb"
      },
      "outputs": [],
      "source": [
        "# Carregando a primeira aba da planilha\n",
        "df_orders = pd.read_excel('/content/drive/MyDrive/Global Superstore.xls', sheet_name = 0)\n",
        "\n",
        "# Exibindo as colunas e primeiras linhas do DataFrame\n",
        "df_orders.head()"
      ]
    },
    {
      "cell_type": "code",
      "execution_count": null,
      "metadata": {
        "id": "VTZco3GhltsV"
      },
      "outputs": [],
      "source": [
        "# Carregando a segunda aba da planilha\n",
        "df_returns = pd.read_excel('/content/drive/MyDrive/Global Superstore.xls', sheet_name=1)\n",
        "\n",
        "# Exibindo as colunas e primeiras linhas do DataFrame\n",
        "df_returns.head()"
      ]
    },
    {
      "cell_type": "code",
      "execution_count": null,
      "metadata": {
        "id": "XSByKcVumORU"
      },
      "outputs": [],
      "source": [
        "# Carregando a terceira aba da planilha\n",
        "df_people = pd.read_excel('/content/drive/MyDrive/Global Superstore.xls', sheet_name=2)\n",
        "\n",
        "# Exibindo as colunas e primeiras linhas do DataFrame\n",
        "df_people.head()"
      ]
    },
    {
      "cell_type": "markdown",
      "metadata": {
        "id": "fkzsdYDLOUAv"
      },
      "source": [
        "Abaixo, vamos fazer alguma limpeza e transformação de dados para facilitar o uso deles.\n",
        "\n",
        "Na prática, estamos substituindo espaços em branco por underlines (```_```) e hífens por vírgulas, no DataFrames que criamos com os dados da planilha."
      ]
    },
    {
      "cell_type": "code",
      "execution_count": null,
      "metadata": {
        "id": "zXkcAWrTd9N1"
      },
      "outputs": [],
      "source": [
        "# Limpando e transformando dados para facilitar o uso\n",
        "df_orders.columns = df_orders.columns.str.replace(' ', '_').str.replace('-','').str.lower()\n",
        "df_returns.columns = df_returns.columns.str.replace(' ', '_').str.replace('-','').str.lower()\n",
        "df_people.columns = df_people.columns.str.replace(' ', '_').str.replace('-','').str.lower()"
      ]
    },
    {
      "cell_type": "markdown",
      "metadata": {
        "id": "DyzbALorw0hb"
      },
      "source": [
        "### **Conectando o SQLite e criando tabelas a partir dos DataFrames**"
      ]
    },
    {
      "cell_type": "code",
      "execution_count": 14,
      "metadata": {
        "id": "a9nmPgNQUoCG"
      },
      "outputs": [
        {
          "ename": "NameError",
          "evalue": "name 'df_orders' is not defined",
          "output_type": "error",
          "traceback": [
            "\u001b[1;31m---------------------------------------------------------------------------\u001b[0m",
            "\u001b[1;31mNameError\u001b[0m                                 Traceback (most recent call last)",
            "Cell \u001b[1;32mIn[14], line 5\u001b[0m\n\u001b[0;32m      2\u001b[0m bd \u001b[38;5;241m=\u001b[39m sqlite3\u001b[38;5;241m.\u001b[39mconnect(\u001b[38;5;124m'\u001b[39m\u001b[38;5;124msuperstore.db\u001b[39m\u001b[38;5;124m'\u001b[39m)\n\u001b[0;32m      4\u001b[0m \u001b[38;5;66;03m# Criando tabelas nos bancos de dados a partir dos nossos DataFrames\u001b[39;00m\n\u001b[1;32m----> 5\u001b[0m \u001b[43mdf_orders\u001b[49m\u001b[38;5;241m.\u001b[39mto_sql(\u001b[38;5;124m'\u001b[39m\u001b[38;5;124morders\u001b[39m\u001b[38;5;124m'\u001b[39m, bd, index\u001b[38;5;241m=\u001b[39m\u001b[38;5;28;01mFalse\u001b[39;00m, if_exists\u001b[38;5;241m=\u001b[39m\u001b[38;5;124m'\u001b[39m\u001b[38;5;124mreplace\u001b[39m\u001b[38;5;124m'\u001b[39m)\n\u001b[0;32m      6\u001b[0m df_returns\u001b[38;5;241m.\u001b[39mto_sql(\u001b[38;5;124m'\u001b[39m\u001b[38;5;124mreturns\u001b[39m\u001b[38;5;124m'\u001b[39m, bd, index\u001b[38;5;241m=\u001b[39m\u001b[38;5;28;01mFalse\u001b[39;00m, if_exists\u001b[38;5;241m=\u001b[39m\u001b[38;5;124m'\u001b[39m\u001b[38;5;124mreplace\u001b[39m\u001b[38;5;124m'\u001b[39m)\n\u001b[0;32m      7\u001b[0m df_people\u001b[38;5;241m.\u001b[39mto_sql(\u001b[38;5;124m'\u001b[39m\u001b[38;5;124mpeople\u001b[39m\u001b[38;5;124m'\u001b[39m, bd, index\u001b[38;5;241m=\u001b[39m\u001b[38;5;28;01mFalse\u001b[39;00m, if_exists\u001b[38;5;241m=\u001b[39m\u001b[38;5;124m'\u001b[39m\u001b[38;5;124mreplace\u001b[39m\u001b[38;5;124m'\u001b[39m)\n",
            "\u001b[1;31mNameError\u001b[0m: name 'df_orders' is not defined"
          ]
        }
      ],
      "source": [
        "# Conectando-se ao SQLite\n",
        "bd = sqlite3.connect('superstore.db')\n",
        "\n",
        "# Criando tabelas nos bancos de dados a partir dos nossos DataFrames\n",
        "df_orders.to_sql('orders', bd, index=False, if_exists='replace')\n",
        "df_returns.to_sql('returns', bd, index=False, if_exists='replace')\n",
        "df_people.to_sql('people', bd, index=False, if_exists='replace')"
      ]
    },
    {
      "cell_type": "code",
      "execution_count": null,
      "metadata": {
        "id": "AhGpgVCpJ5l0"
      },
      "outputs": [],
      "source": [
        "# Criando uma função para facilitar instruções SQL\n",
        "def executaQuery(query):\n",
        "  return pd.read_sql(query,bd)"
      ]
    },
    {
      "cell_type": "markdown",
      "metadata": {
        "id": "AjA5F4sEO9wj"
      },
      "source": [
        "A partir daqui, podemos executar SQL dentro do Pandas, o que torna nosso trabalho muito mais fluido."
      ]
    },
    {
      "cell_type": "markdown",
      "metadata": {
        "id": "E5x4tSuumyhj"
      },
      "source": [
        "### **Comandos básicos SQL**\n",
        "\n",
        "Estes são os comandos básicos do SQL. Praticaremos cada um na sequência.\n",
        "\n",
        "* SELECT\n",
        "* FROM\n",
        "* LIMIT\n",
        "* ALIAS\n",
        "* WHERE\n",
        "* AND, OR, NOT\n",
        "* IN\n",
        "* LIKE\n",
        "* BETWEEN\n",
        "* DISTINCT\n",
        "* MIN, MAX, COUNT, AVG e SUM\n",
        "* ORDER BY\n",
        "* GROUP BY\n",
        "* JOINS\n",
        "\n",
        "Detalhe: não é obrigatório escrever os comandos em letras maiúsculas, mas, por convenção da comunidade mundial de SQL, ao longo de décadas, tornou-se padrão usar sempre maísculas. Por isso, manteremos tal convenção."
      ]
    },
    {
      "cell_type": "markdown",
      "metadata": {
        "id": "B2hL_N-hyCzq"
      },
      "source": [
        "#### **SELECT e FROM**\n",
        "\n",
        "- Os principais comandos de consulta SQL são `SELECT` e `FROM`:\n",
        "    \n",
        "- `SELECT` seleciona as colunas que queremos trazer\n",
        "- `FROM` seleciona a tabela que analisaremos\n",
        "\n",
        "Usar um asterisco (`*`) com ```SELECT```  permite selecionar toda das colunas."
      ]
    },
    {
      "cell_type": "code",
      "execution_count": null,
      "metadata": {
        "id": "rTtESvyoVOJk"
      },
      "outputs": [],
      "source": [
        "# Usando SELECT * FROM\n",
        "executaQuery('SELECT * FROM orders')"
      ]
    },
    {
      "cell_type": "markdown",
      "metadata": {
        "id": "3tYUFj93zcw3"
      },
      "source": [
        "#### **LIMIT**\n",
        "\n",
        "Para facilitar a consulta, podemos aplicar `LIMIT`, que define o número de linhas que a query irá trazer.\n",
        "\n",
        "Podemos usar `LIMIT` para mostrar as primeiras `n` linhas:"
      ]
    },
    {
      "cell_type": "code",
      "execution_count": null,
      "metadata": {
        "id": "FmBX5nZtzrF3"
      },
      "outputs": [],
      "source": [
        "# Usando LIMITE com SELECT\n",
        "executaQuery('SELECT * FROM orders LIMIT 5')"
      ]
    },
    {
      "cell_type": "markdown",
      "metadata": {
        "id": "aeyRnfu3y6Ez"
      },
      "source": [
        "Se não quisermos trazer todas as colunas, podemos trazer as colunas desejadas uma a uma, separadas por vírgulas:"
      ]
    },
    {
      "cell_type": "code",
      "execution_count": null,
      "metadata": {
        "id": "PW49WxQ8ck0Z"
      },
      "outputs": [],
      "source": [
        "# Selecionado as colunas \"cliente\" (customer_name) e \"cidade\" (city)\n",
        "consulta = '''\n",
        "           SELECT customer_name,\n",
        "                  city\n",
        "           FROM orders\n",
        "           LIMIT 5\n",
        "           '''\n",
        "executaQuery(consulta)"
      ]
    },
    {
      "cell_type": "code",
      "execution_count": null,
      "metadata": {
        "id": "OklcVC-QfPx_"
      },
      "outputs": [],
      "source": [
        "# Selecionando todas as categorias\n",
        "consulta = '''\n",
        "           SELECT category\n",
        "           FROM orders\n",
        "           '''\n",
        "executaQuery(consulta)"
      ]
    },
    {
      "cell_type": "markdown",
      "metadata": {
        "id": "wydVNTp_9IQu"
      },
      "source": [
        "#### **ALIAS**\n",
        "\n",
        "Aliases SQL são usados ​​para fornecer um nome temporário a uma tabela ou coluna de uma tabela.\n",
        "\n",
        "São úteis para tornar nomes de colunas mais legíveis e ficam disponiveis uma determinada consulta por meio do comando `AS`.\n",
        "\n",
        "**Sintaxe:**\n",
        "\n",
        "```\n",
        "SELECT coluna1 AS col1,\n",
        "       coluna2 AS col2\n",
        "FROM nome_da_tabela\n",
        "```"
      ]
    },
    {
      "cell_type": "code",
      "execution_count": null,
      "metadata": {
        "id": "eUx1STb49z28"
      },
      "outputs": [],
      "source": [
        "# Selecionado as colunas \"cliente\" (customer_name) e \"cidade\" (city) com ALIAS (AS)\n",
        "consulta = '''\n",
        "           SELECT customer_name AS name,\n",
        "                  city\n",
        "           FROM orders\n",
        "           LIMIT 5\n",
        "           '''\n",
        "executaQuery(consulta)"
      ]
    },
    {
      "cell_type": "markdown",
      "metadata": {
        "id": "FeJfo8BMzywy"
      },
      "source": [
        "#### **WHERE**\n",
        "\n",
        "\n",
        "A cláusula ou comando `WHERE` permite filtar registros. Dentro dela, também temos algumas condições que podemos executar."
      ]
    },
    {
      "cell_type": "markdown",
      "metadata": {
        "id": "eI3S7RDv0sd9"
      },
      "source": [
        "##### **Igual `=`**\n",
        "\n",
        "O símbolo `=` significa \"igualdade\", ou seja, selecionaremos todos os registros que sejam iguais ao valor informado."
      ]
    },
    {
      "cell_type": "code",
      "execution_count": null,
      "metadata": {
        "id": "UvRo7AvFgxiS"
      },
      "outputs": [],
      "source": [
        "# Selecionar todas as linhas onde a categoria for igual a \"Technology\"\n",
        "consulta = '''\n",
        "           SELECT *\n",
        "           FROM orders\n",
        "           WHERE category = 'Technology'\n",
        "           LIMIT 5\n",
        "           '''\n",
        "executaQuery(consulta)"
      ]
    },
    {
      "cell_type": "markdown",
      "metadata": {
        "id": "u2YacO8bIqV0"
      },
      "source": [
        "##### **Diferente `<>`**\n",
        "\n",
        "O símbolo `<>` significa \"diferente\", ou seja, selecionaremos todos os registros que sejam diferentes do valor informado."
      ]
    },
    {
      "cell_type": "code",
      "execution_count": null,
      "metadata": {
        "id": "X-6it-zi0VQP"
      },
      "outputs": [],
      "source": [
        "# Selecionar todas as linhas onde a categoria for diferente a \"Technology\"\n",
        "consulta = '''\n",
        "           SELECT *\n",
        "           FROM orders\n",
        "           WHERE category <> 'Technology'\n",
        "           LIMIT 5\n",
        "           '''\n",
        "executaQuery(consulta)"
      ]
    },
    {
      "cell_type": "markdown",
      "metadata": {
        "id": "wa_pmzwT09L9"
      },
      "source": [
        "##### **Maior `>`**\n",
        "\n",
        "O símbolo `>` significa \"maior que\", ou seja, selecionaremos todos os registros que sejam maiores do que valor informado."
      ]
    },
    {
      "cell_type": "code",
      "execution_count": null,
      "metadata": {
        "id": "MtsWz8ip1mQO"
      },
      "outputs": [],
      "source": [
        "# Selecionar todas as linhas onde a quantidade seja maior que 10\n",
        "consulta = '''\n",
        "           SELECT quantity\n",
        "           FROM orders\n",
        "           WHERE quantity > 10\n",
        "           LIMIT 5\n",
        "           '''\n",
        "executaQuery(consulta)"
      ]
    },
    {
      "cell_type": "markdown",
      "metadata": {
        "id": "0UGk3c-z1G67"
      },
      "source": [
        "##### **Maior ou Igual `>=`**\n",
        "\n",
        "`>=` significa \"igual ou maior que\", ou seja, selecionaremos todos os registros que sejam iguais ou maiores do que valor informado."
      ]
    },
    {
      "cell_type": "code",
      "execution_count": null,
      "metadata": {
        "id": "OE5g6kOU1xns"
      },
      "outputs": [],
      "source": [
        "# Selecionar todas as linhas onde a quantidade seja maior ou igual a 10\n",
        "consulta = '''\n",
        "           SELECT quantity\n",
        "           FROM orders\n",
        "           WHERE quantity >= 10\n",
        "           LIMIT 5\n",
        "           '''\n",
        "executaQuery(consulta)"
      ]
    },
    {
      "cell_type": "markdown",
      "metadata": {
        "id": "2ZHWOszP1XdI"
      },
      "source": [
        "##### **Menor `<`**\n",
        "\n",
        "O símbolo `<` significa \"menor que\", ou seja, selecionaremos todos os registros que sejam menores do que valor informado."
      ]
    },
    {
      "cell_type": "code",
      "execution_count": null,
      "metadata": {
        "id": "hCXhILA_119k"
      },
      "outputs": [],
      "source": [
        "# Selecionar todas as linhas onde a quantidade seja menor que 10\n",
        "consulta = '''\n",
        "           SELECT quantity\n",
        "           FROM orders\n",
        "           WHERE quantity < 10\n",
        "           LIMIT 10\n",
        "           '''\n",
        "executaQuery(consulta)"
      ]
    },
    {
      "cell_type": "markdown",
      "metadata": {
        "id": "r1Lq-S3_1SI0"
      },
      "source": [
        "##### **Menor ou Igual `<=`**\n",
        "\n",
        "O símbolo `<=` significa \"igual ou menor que\", ou seja, selecionaremos todos os registros que sejam iguais ou menores do que valor informado."
      ]
    },
    {
      "cell_type": "code",
      "execution_count": null,
      "metadata": {
        "id": "cFhbB6hz15iE"
      },
      "outputs": [],
      "source": [
        "# Selecionar todas as linhas onde a quantidade seja menor ou igual a 10\n",
        "consulta = '''\n",
        "           SELECT quantity\n",
        "           FROM orders\n",
        "           WHERE quantity <= 10\n",
        "           LIMIT 10\n",
        "           '''\n",
        "executaQuery(consulta)"
      ]
    },
    {
      "cell_type": "markdown",
      "metadata": {
        "id": "0zlCzOMX2OFU"
      },
      "source": [
        "##### **BETWEEN**\n",
        "\n",
        "`BETWEEN` significa \"entre\", ou seja, selecionaremos todos os registros que estejam entre os valores informados."
      ]
    },
    {
      "cell_type": "code",
      "execution_count": null,
      "metadata": {
        "id": "fYQIRMaW2lEU"
      },
      "outputs": [],
      "source": [
        "# Selecionar todas as linhas onde valor de venda esteja entre 3000 e 6000\n",
        "consulta = '''\n",
        "           SELECT sales\n",
        "           FROM orders\n",
        "           WHERE sales BETWEEN 3000 AND 6000\n",
        "           LIMIT 5\n",
        "           '''\n",
        "executaQuery(consulta)"
      ]
    },
    {
      "cell_type": "markdown",
      "metadata": {
        "id": "1x1HFgzZ3Ze6"
      },
      "source": [
        "##### **AND**\n",
        "\n",
        "`AND` significa \"e\", ou seja, podemos concatenar duas ou mais condições, onde ambas tem que ser verdadeiras para que o retorno seja positivo."
      ]
    },
    {
      "cell_type": "code",
      "execution_count": null,
      "metadata": {
        "id": "U6PEYplu3tkn"
      },
      "outputs": [],
      "source": [
        "# Selecionar todas as linhas onde a categoria for igual a Technology e a cidade for igual a Valinhos\n",
        "consulta = '''\n",
        "           SELECT *\n",
        "           FROM orders\n",
        "           WHERE category = 'Technology'\n",
        "           AND city = 'Valinhos'\n",
        "           '''\n",
        "executaQuery(consulta)"
      ]
    },
    {
      "cell_type": "markdown",
      "metadata": {
        "id": "awSrOgDI35rP"
      },
      "source": [
        "##### **OR**\n",
        "\n",
        "`AND` significa \"ou\", ou seja, podemos concatenar duas ou mais condições, onde basta uma das condições ser verdadeira para que o retorno seja positivo."
      ]
    },
    {
      "cell_type": "code",
      "execution_count": null,
      "metadata": {
        "id": "XlMXnm5G35QL"
      },
      "outputs": [],
      "source": [
        "# Selecionar todas as linhas onde a categoria for igual a Technology ou a cidade for igual a Valinhos\n",
        "consulta = '''\n",
        "           SELECT *\n",
        "           FROM orders\n",
        "           WHERE category = 'Technology'\n",
        "           OR city = 'Valinhos'\n",
        "           '''\n",
        "executaQuery(consulta)"
      ]
    },
    {
      "cell_type": "markdown",
      "metadata": {
        "id": "7qPN6BT94LYk"
      },
      "source": [
        "##### **IN**\n",
        "\n",
        "`IN` significa \"em\", ou seja, retorna todos os valores que estejam dentro de uma lista de opções informadas atraves de uma lista."
      ]
    },
    {
      "cell_type": "code",
      "execution_count": null,
      "metadata": {
        "id": "JfKBNb9N4LG3"
      },
      "outputs": [],
      "source": [
        "# Selecionar todas os registros que sejam das cidades de New York City e Berlin\n",
        "consulta = '''\n",
        "           SELECT *\n",
        "           FROM orders\n",
        "           WHERE city IN ('New York City', 'Berlin')\n",
        "           LIMIT 5\n",
        "           '''\n",
        "executaQuery(consulta)"
      ]
    },
    {
      "cell_type": "markdown",
      "metadata": {
        "id": "Bdg0tgak4w6r"
      },
      "source": [
        "##### **NOT**\n",
        "\n",
        "`NOT` significa \"negação\", ou seja, tem efeito de trazer o inverso de qualquer condição posterior a ele."
      ]
    },
    {
      "cell_type": "code",
      "execution_count": null,
      "metadata": {
        "id": "TU6-NNxc4xSy"
      },
      "outputs": [],
      "source": [
        "# Selecionar todas as linhas que não sejam das cidades de New York City e Berlin\n",
        "consulta = '''\n",
        "           SELECT *\n",
        "           FROM orders\n",
        "           WHERE city NOT IN ('New York City', 'Berlin')\n",
        "           LIMIT 5\n",
        "           '''\n",
        "executaQuery(consulta)"
      ]
    },
    {
      "cell_type": "markdown",
      "metadata": {
        "id": "_2llNkcL5bdn"
      },
      "source": [
        "##### **LIKE**\n",
        "\n",
        "`LIKE` é utilizado em conjunto com a cláusula `WHERE` e serve para realizar uma busca mais refinada em um campo de uma tabela.\n",
        "\n",
        "**Sintaxe:**\n",
        "\n",
        "```\n",
        "SELECT coluna1, coluna2, ... colunaN\n",
        "  FROM nome_da_tabela\n",
        "WHERE nome_coluna LIKE modelo;\n",
        "```\n",
        "\n",
        "Existem dois curingas frequentemente usados ​​em conjunto com o LIKE:\n",
        "\n",
        " 1. O sinal de porcentagem (```%```) representa zero, um ou vários caracteres;\n",
        " 2. O sinal de sublinhado (```_```) representa um único caractere.\n",
        "\n",
        " Para exemplos do uso de LIKE, veja este [tutorial da W3 Schools](https://www.w3schools.com/sql/sql_like.asp)."
      ]
    },
    {
      "cell_type": "code",
      "execution_count": null,
      "metadata": {
        "id": "JeBbFdfm6dBx"
      },
      "outputs": [],
      "source": [
        "# Selecionando todas as linhas em que o nome começa com a letra \"P\" (\"P\" maiúsculo)\n",
        "consulta = '''\n",
        "           SELECT customer_name name\n",
        "           FROM orders\n",
        "           WHERE customer_name LIKE 'P%'\n",
        "           LIMIT 5\n",
        "           '''\n",
        "executaQuery(consulta)"
      ]
    },
    {
      "cell_type": "code",
      "execution_count": null,
      "metadata": {
        "id": "XbN6iGSs61JY"
      },
      "outputs": [],
      "source": [
        "# Selecionar todas as linhas em que o nome termina com a letra \"a\" (\"a\" minúsculo)\n",
        "consulta = '''\n",
        "           SELECT customer_name name\n",
        "           FROM orders\n",
        "           WHERE customer_name LIKE '%a'\n",
        "           LIMIT 5\n",
        "           '''\n",
        "executaQuery(consulta)"
      ]
    },
    {
      "cell_type": "code",
      "execution_count": null,
      "metadata": {
        "id": "T1Ii4X-77DdE"
      },
      "outputs": [],
      "source": [
        "# Selecionando todas as linhas em que o nome contenha os caracteres 'oa' em qualquer lugar do termo\n",
        "consulta = '''\n",
        "           SELECT customer_name name\n",
        "           FROM orders\n",
        "           WHERE customer_name LIKE '%oa%'\n",
        "           LIMIT 5\n",
        "           '''\n",
        "executaQuery(consulta)"
      ]
    },
    {
      "cell_type": "code",
      "execution_count": null,
      "metadata": {
        "id": "7oUva3AK7I2m"
      },
      "outputs": [],
      "source": [
        "# Selecionando todas as linhas em que o nome tem a segunda letra sendo \"r\" (\"r\" minúsculo)\n",
        "consulta = '''\n",
        "           SELECT customer_name\n",
        "           FROM orders\n",
        "           WHERE customer_name LIKE '_r%'\n",
        "           LIMIT 5\n",
        "           '''\n",
        "executaQuery(consulta)"
      ]
    },
    {
      "cell_type": "code",
      "execution_count": null,
      "metadata": {
        "id": "53ZDhzo27RO9"
      },
      "outputs": [],
      "source": [
        "# Selecionando todas as linhas em que o nome começa com a letra 'P', tenham 2 caracteres e logo depois a letra 'r'\n",
        "consulta = '''\n",
        "           SELECT customer_name name\n",
        "           FROM orders\n",
        "           WHERE customer_name LIKE 'P__r%'\n",
        "           LIMIT 5\n",
        "           '''\n",
        "executaQuery(consulta)"
      ]
    },
    {
      "cell_type": "code",
      "execution_count": null,
      "metadata": {
        "id": "gAcALr7M7p7Q"
      },
      "outputs": [],
      "source": [
        "# Selecionar todas as linhas que o nome dos consumidores comecem com a letra 'P' e terminem com a letra 'g'\n",
        "consulta = '''\n",
        "           SELECT customer_name name\n",
        "           FROM orders\n",
        "           WHERE customer_name LIKE 'P%g'\n",
        "           LIMIT 5\n",
        "           '''\n",
        "executaQuery(consulta)"
      ]
    },
    {
      "cell_type": "markdown",
      "metadata": {
        "id": "BhCYE5oOzVg6"
      },
      "source": [
        "#### **DISTINCT**\n",
        "\n",
        "```DISTINCT``` permite analisar os valores únicos de uma coluna."
      ]
    },
    {
      "cell_type": "code",
      "execution_count": null,
      "metadata": {
        "id": "aindw0YSf0WN"
      },
      "outputs": [],
      "source": [
        "# Selecionando todas as categorias únicas\n",
        "consulta = '''\n",
        "          SELECT DISTINCT category\n",
        "           FROM orders\n",
        "           '''\n",
        "executaQuery(consulta)"
      ]
    },
    {
      "cell_type": "markdown",
      "metadata": {
        "id": "ihXkpYeE-5mh"
      },
      "source": [
        "#### **Aggregate Functions**\n",
        "\n",
        "Funções de agregação são funções SQL que permitem executar uma operação aritmética nos valores de uma coluna para todos os registros de uma tabela.\n",
        "\n",
        "São compostas por `MAX`, `MIN`, `AVG`, `SUM` e `COUNT`. Cada uma delas executa uma tarefa específica.\n"
      ]
    },
    {
      "cell_type": "markdown",
      "metadata": {
        "id": "-QC0pKyU_VIR"
      },
      "source": [
        "##### **MAX**\n",
        "\n",
        "Retorna o maior valor da coluna selecionada."
      ]
    },
    {
      "cell_type": "code",
      "execution_count": null,
      "metadata": {
        "id": "UyQ9fAMbApKi"
      },
      "outputs": [],
      "source": [
        "# Retorna o valor máximo de custo de frete\n",
        "consulta = '''\n",
        "           SELECT MAX(shipping_cost) AS max_shippingcost\n",
        "           FROM orders\n",
        "           '''\n",
        "executaQuery(consulta)"
      ]
    },
    {
      "cell_type": "markdown",
      "metadata": {
        "id": "s_EFumR4_U9i"
      },
      "source": [
        "##### **MIN**\n",
        "\n",
        "Retorna o menor valor da coluna selecionada.\n"
      ]
    },
    {
      "cell_type": "code",
      "execution_count": null,
      "metadata": {
        "id": "1r9sxZIXAyKn"
      },
      "outputs": [],
      "source": [
        "# Retorna o valor mínimo de custo de frete\n",
        "consulta = '''\n",
        "           SELECT MIN(shipping_cost) AS min_shippingcost\n",
        "           FROM orders\n",
        "           '''\n",
        "executaQuery(consulta)"
      ]
    },
    {
      "cell_type": "markdown",
      "metadata": {
        "id": "ZQbuT_T5-mjz"
      },
      "source": [
        "##### **AVG**\n",
        "\n",
        "Retorna a média de uma coluna numérica."
      ]
    },
    {
      "cell_type": "code",
      "execution_count": null,
      "metadata": {
        "id": "pC89x5gYA3b4"
      },
      "outputs": [],
      "source": [
        "# Retorna o valor médio de custo de frete\n",
        "consulta = '''\n",
        "           SELECT AVG(shipping_cost) AS avg_shippingcost\n",
        "           FROM orders\n",
        "           '''\n",
        "executaQuery(consulta)"
      ]
    },
    {
      "cell_type": "markdown",
      "metadata": {
        "id": "ivDbj6Zr-n1N"
      },
      "source": [
        "##### **SUM**\n",
        "\n",
        "Retorna a soma total de uma coluna numérica."
      ]
    },
    {
      "cell_type": "code",
      "execution_count": null,
      "metadata": {
        "id": "IEjbKsrpA7VW"
      },
      "outputs": [],
      "source": [
        "# Retorna o valor total de custo de frete\n",
        "consulta = '''\n",
        "           SELECT ROUND(SUM(shipping_cost),3) AS total_shippingcost\n",
        "           FROM orders\n",
        "           '''\n",
        "executaQuery(consulta)"
      ]
    },
    {
      "cell_type": "markdown",
      "metadata": {
        "id": "HLGYehQj-pHv"
      },
      "source": [
        "##### **COUNT**\n",
        "Retorna o número de linhas que corresponde a um critério especificado."
      ]
    },
    {
      "cell_type": "code",
      "execution_count": null,
      "metadata": {
        "id": "xh8wAVUP_4Iv"
      },
      "outputs": [],
      "source": [
        "# Retorna o número total de ordens na tabela\n",
        "consulta = '''\n",
        "          SELECT COUNT(*) AS total_orders\n",
        "           FROM orders\n",
        "           '''\n",
        "executaQuery(consulta)"
      ]
    },
    {
      "cell_type": "code",
      "execution_count": null,
      "metadata": {
        "id": "VH3mFdbrALYf"
      },
      "outputs": [],
      "source": [
        "# Retornar o numéros distintos de tipos de frete existentes na tabela\n",
        "consulta = '''\n",
        "          SELECT COUNT(DISTINCT ship_mode) AS total_shipmode\n",
        "           FROM orders\n",
        "           '''\n",
        "executaQuery(consulta)"
      ]
    },
    {
      "cell_type": "markdown",
      "metadata": {
        "id": "0iu3FiRt8Mxd"
      },
      "source": [
        "#### **ORDER BY**\n",
        "\n",
        "`ORDER BY` é usado para classificar resultados de uma consulta em ordem crescente ou decrescente.\n",
        "\n",
        "Ela classifica os registros em ordem crescente (como A-Z ou de um número menor para um maior) por padrão (`ASC`).\n",
        "\n",
        "Para classificar os registros em ordem decrescente (como de Z-A ou de um número maior para um menor), use a palavra `DESC`."
      ]
    },
    {
      "cell_type": "code",
      "execution_count": null,
      "metadata": {
        "id": "BtWuQ2TV8uyk"
      },
      "outputs": [],
      "source": [
        "# Seleciona todas as linhas ordenandas pelo maior número de vendas para o menor\n",
        "consulta = '''\n",
        "           SELECT sales\n",
        "           FROM orders\n",
        "           ORDER BY sales DESC\n",
        "           LIMIT 5\n",
        "           '''\n",
        "executaQuery(consulta)"
      ]
    },
    {
      "cell_type": "markdown",
      "metadata": {
        "id": "d7ABqKx--FTJ"
      },
      "source": [
        "#### **GROUP BY**\n",
        "\n",
        "`GROUP BY` é a instrução que agrupa as linhas que têm os mesmos valores em linhas de resumo.\n",
        "\n",
        "É frequentemente usada com funções agregadas `COUNT()`, `MAX()`, `MIN()`, `SUM()`e `AVG()` para agrupar resultados de uma consulta por uma ou mais colunas."
      ]
    },
    {
      "cell_type": "code",
      "execution_count": null,
      "metadata": {
        "id": "xwXiclzwBPOw"
      },
      "outputs": [],
      "source": [
        "# Retorna o valor total de vendas agrupadas pelo tipo de frete\n",
        "consulta = '''\n",
        "          SELECT ship_mode,\n",
        "                 ROUND(SUM(sales),2) as total_sales\n",
        "          FROM orders\n",
        "          GROUP BY ship_mode\n",
        "\n",
        "           '''\n",
        "executaQuery(consulta)"
      ]
    },
    {
      "cell_type": "code",
      "execution_count": null,
      "metadata": {
        "id": "CztcPkN9BqLq"
      },
      "outputs": [],
      "source": [
        "# Retorna o número total de vendas agrupadas pelo tipo de frete\n",
        "consulta = '''\n",
        "          SELECT ship_mode,\n",
        "                 COUNT(sales) as total_sales\n",
        "          FROM orders\n",
        "          GROUP BY ship_mode\n",
        "\n",
        "           '''\n",
        "executaQuery(consulta)"
      ]
    },
    {
      "cell_type": "code",
      "execution_count": null,
      "metadata": {
        "id": "re3rvU9eXDhE"
      },
      "outputs": [],
      "source": [
        "# Retorna a quantidade de registros por categoria\n",
        "consulta = '''\n",
        "          SELECT category,\n",
        "                 COUNT(*) as quantidade\n",
        "          FROM orders\n",
        "          GROUP BY category\n",
        "\n",
        "           '''\n",
        "executaQuery(consulta)"
      ]
    },
    {
      "cell_type": "markdown",
      "metadata": {
        "id": "ohiJATkECRxE"
      },
      "source": [
        "#### **JOIN**\n",
        "\n",
        "`JOIN` é usado para combinar linhas de duas ou mais tabelas, com base em uma coluna relacionada entre elas.\n",
        "\n",
        "Há diferentes tipos de JOIN no SQL:\n",
        "\n",
        "1. `(INNER) JOIN`: Retorna registros que possuem valores correspondentes em ambas as tabelas\n",
        "2. `LEFT (OUTER) JOIN`: Retorna todos os registros da tabela da esquerda e os registros correspondentes da tabela da direita\n",
        "3. `RIGHT (OUTER) JOIN`: Retorna todos os registros da tabela da direita e os registros correspondentes da tabela da esquerda\n",
        "4. `FULL (OUTER) JOIN`: Retorna todos os registros quando há uma correspondência na tabela à esquerda ou à direita.\n",
        "\n",
        "[Esta imagem](https://i.pinimg.com/736x/50/89/6f/50896fa027cb4fa4829c87c8c2dfc054--sql-join-sql-server.jpg) ajuda a entender melhor como os diferentes tipos de JOINs funcionam. Se você já viu algo sobre Teoria de Conjuntos, isto será familiar."
      ]
    },
    {
      "cell_type": "markdown",
      "metadata": {
        "id": "BN4FqQB9C2pt"
      },
      "source": [
        "###### **INNER JOIN**"
      ]
    },
    {
      "cell_type": "code",
      "execution_count": null,
      "metadata": {
        "id": "iX2bLpl5CMYH"
      },
      "outputs": [],
      "source": [
        "consulta = '''\n",
        "          SELECT *\n",
        "          FROM orders AS o\n",
        "          INNER JOIN returns AS r\n",
        "          ON o.order_id = r.order_id\n",
        "\n",
        "           '''\n",
        "executaQuery(consulta)"
      ]
    },
    {
      "cell_type": "markdown",
      "metadata": {
        "id": "9xD4bXuLDuLJ"
      },
      "source": [
        "###### **LEFT JOIN**"
      ]
    },
    {
      "cell_type": "code",
      "execution_count": null,
      "metadata": {
        "id": "DPweScHvDuLJ"
      },
      "outputs": [],
      "source": [
        "consulta = '''\n",
        "          SELECT *\n",
        "          FROM orders AS o\n",
        "          LEFT JOIN returns AS r\n",
        "          ON o.order_id = r.order_id\n",
        "\n",
        "           '''\n",
        "executaQuery(consulta)"
      ]
    },
    {
      "cell_type": "code",
      "execution_count": null,
      "metadata": {
        "id": "3WlfZUE8Jw2f"
      },
      "outputs": [],
      "source": [
        "consulta = '''\n",
        "          SELECT *\n",
        "          FROM returns AS r\n",
        "          LEFT JOIN orders AS o\n",
        "          ON o.order_id = r.order_id\n",
        "\n",
        "           '''\n",
        "executaQuery(consulta)"
      ]
    },
    {
      "cell_type": "markdown",
      "metadata": {
        "id": "m_LULVAnWcDI"
      },
      "source": [
        "## **5. Considerações**\n",
        "\n",
        "Vimos um bocado de conceitos. Procure repassá-los e praticá-los. Com o tempo, você verá que muitas coisas que podem ser feitas diretamente com SQL também podem ser feitas com Pandas (ou vice-e-versa). As ideias são as mesmas; as ferramentas e sintaxe de comandos é que mudam.\n",
        "\n",
        "Recomendamos que você siga estudando e consultando este [tutorial da W2 Schools](https://www.w3schools.com/sql/default.asp) e este outro, do [SQL Tutorial](https://www.sqltutorial.org/), para ir se familizarizando com SQL e para entender como um comando funciona.\n",
        "\n",
        "Em startups e empresas mais maduras, talvez você já receba dados prontos e formatados da Engenharia de Dados, por meio de CSV, JSON ou APIs, para uso direto com Pandas. No entanto, talvez nem todos os locais tenham essas facilidades e você terá acesso a ler bancos de dados diretamente. Saber SQL é um diferencial nessas situações."
      ]
    },
    {
      "cell_type": "markdown",
      "metadata": {
        "id": "JvLahoy2XvgY"
      },
      "source": [
        "---\n",
        "\n",
        "Notebook utilizado para fins educacionais da **Awari**.\n",
        "\n",
        "**© AWARI. Todos os direitos reservados.**"
      ]
    },
    {
      "cell_type": "markdown",
      "metadata": {},
      "source": [
        "# Principais Declarações\n",
        "\n",
        "Vamos ver, de forma resumida, as declarações mais comuns usadas na linguagem SQL. Por convenção, todas procuram ser escritas em maiúsculas.\n",
        "\n",
        "No trabalho com dados, é muito provável que um Data Analyst ou outro profissional de dados não faça inserção, atualização ou exclusão de dados e, sim, apenas os consulte e os importe para outras ferramentas a fim de analisá-los.\n",
        "\n",
        "Mesmo assim, vamos cobrir todos os aspectos de SQL, desde a consulta até a exclusão de dados.\n",
        "\n",
        "## Declarações Comuns para Registros\n",
        "\n",
        "“Registro” pode ser entendido como uma linha de dados em uma tabela do banco de dados. As declarações mais comuns para trabalhar com eles são:\n",
        "\n",
        "- **SELECT**: Instrução que serve para consultar dados de uma tabela de um banco de dados; trata-se de uma das instruções mais simples e mais usadas.\n",
        "- **INSERT**: Insere uma ou mais linhas em uma tabela.\n",
        "- **UPDATE**: Atualiza dados de uma tabela.\n",
        "- **DELETE**: Exclui dados de uma tabela de forma permanente.\n",
        "\n",
        "Além das declarações, há cláusulas que são usadas junto das declarações, para torná-las mais versáteis e úteis:\n",
        "\n",
        "- **GROUP BY**: Permite agrupar linhas.\n",
        "- **ORDER BY**: Cláusula usada junto com instruções, que permite ordenar os resultados (em ordem alfabética ou de um valor maior para um menor, por exemplo).\n",
        "- **DISTINCT**: Filtra apenas resultados únicos (remove duplicadas) em consultas ao banco de dados.\n",
        "- **FETCH**: Permite começar uma consulta a partir de um determinado número de linhas.\n",
        "- **WHERE**: Permite filtrar dados com base em condições específicas.\n",
        "- **AND**: Operador lógico “E”, que permite combinar expressões booleanas.\n",
        "- **OR**: Operador lógico “OU”, que também permite combinar expressões booleanas.\n",
        "- **NOT**: Negação (não) de uma expressão booleana.\n",
        "- **LIKE**: Permite consultas dentro de um padrão especificado.\n",
        "- **CASE**: Permite a lógica `if-then-else` (se-então-senão) em SQL.\n",
        "\n",
        "## Declarações Comuns para Tabelas\n",
        "\n",
        "- **CREATE TABLE**: Cria uma nova tabela no banco de dados.\n",
        "- **ALTER TABLE**: Modifica a estrutura de uma tabela.\n",
        "- **DROP TABLE**: Remove tabelas de forma permanente do banco de dados.\n",
        "- **INNER JOIN**: Permite combinar várias tabelas.\n",
        "\n",
        "## Outras Declarações Relacionadas\n",
        "\n",
        "- **PRIMARY KEY**: Define qual a “chave primária” dos dados, isto é, o dado que será o principal de cada linha da tabela.\n",
        "- **FOREIGN KEY**: “Chave estrangeira”, usada no relacionamento entre duas ou mais tabelas.\n",
        "\n",
        "Um aprofundamento sobre essas declarações pode ser conferido em [sqltutorial.org](https://www.sqltutorial.org)."
      ]
    }
  ],
  "metadata": {
    "colab": {
      "provenance": [],
      "toc_visible": true
    },
    "kernelspec": {
      "display_name": "bootcamp_cientista_dados",
      "language": "python",
      "name": "python3"
    },
    "language_info": {
      "codemirror_mode": {
        "name": "ipython",
        "version": 3
      },
      "file_extension": ".py",
      "mimetype": "text/x-python",
      "name": "python",
      "nbconvert_exporter": "python",
      "pygments_lexer": "ipython3",
      "version": "3.12.6"
    }
  },
  "nbformat": 4,
  "nbformat_minor": 0
}
