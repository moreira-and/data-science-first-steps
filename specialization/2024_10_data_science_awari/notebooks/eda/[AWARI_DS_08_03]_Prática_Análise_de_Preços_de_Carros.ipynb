{
  "cells": [
    {
      "cell_type": "markdown",
      "source": [
        "![header-notebooks.png](data:image/png;base64,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)\n",
        "\n",
        "Prática da **Aula 08: Estatística Descritiva I**, do curso de **Data Science** da **[Awari](https://awari.com.br/)**. Para utilizá-la, vá no menu \"Arquivo\" e, em seguida, na opção \"Salvar uma cópia no Drive\". Isto criará uma cópia deste notebook em uma pasta chamada \"Colab Notebooks\", no seu Google Drive pessoal. Use a cópia para criar novas células de código ou executar as células desta prática.\n",
        "\n",
        "---"
      ],
      "metadata": {
        "id": "yNecU78bartP"
      }
    },
    {
      "cell_type": "markdown",
      "source": [
        "# **Análise de Preços de Carros**"
      ],
      "metadata": {
        "id": "ZCgyw0txbSUI"
      }
    },
    {
      "cell_type": "markdown",
      "source": [
        "## **Objetivo**\n",
        "\n",
        "Esta é uma prática complementar, que poderá ser vista na 8ª aula do curso de Data Science, caso haja tempo.\n",
        "\n",
        "Ela é similar a outra prática baseada em dados do Spotify. Será usada uma base de dados de preços de carros, baseados na Tabela Fipe, para a demonstração.\n",
        "\n",
        "Os dados são de 2017, mas não comprometem a análise. O objetivo, aqui, não é fazer uma análise de dados atuais, mas, sim, demonstrar técnicas estatísticas aplicáveis a quaisquer conjuntos de dados."
      ],
      "metadata": {
        "id": "bF2RFZkdbdZT"
      }
    },
    {
      "cell_type": "markdown",
      "source": [
        "## **Prática**"
      ],
      "metadata": {
        "id": "9kB56ERGcBTn"
      }
    },
    {
      "cell_type": "markdown",
      "source": [
        "### **Preparativos**"
      ],
      "metadata": {
        "id": "k7m9GQQAcEe6"
      }
    },
    {
      "cell_type": "code",
      "execution_count": null,
      "metadata": {
        "id": "ZimhBVKa1qZz"
      },
      "outputs": [],
      "source": [
        "import numpy\n",
        "import pandas\n",
        "import seaborn\n",
        "\n",
        "from matplotlib import pyplot\n",
        "%matplotlib inline\n",
        "\n",
        "from scipy import stats"
      ]
    },
    {
      "cell_type": "markdown",
      "source": [
        "### **Carregando os dados**\n",
        "\n",
        "Primeiro, faça download do arquivo [fipe_price_list_201710.csv](https://drive.google.com/file/d/1LFe4C4aNTL8LEM6FovkrhTgBtXwVoNff/view?usp=share_link) e, em seguida, faça upload do mesmo para a pasta raiz do seu Google Drive.\n",
        "\n",
        "Depois, monte o drive para poder importar o arquivo, conforme as etapas a seguir:"
      ],
      "metadata": {
        "id": "gA-r8udpGSeP"
      }
    },
    {
      "cell_type": "code",
      "source": [
        "from google.colab import drive\n",
        "drive.mount(\"/content/drive/\")"
      ],
      "metadata": {
        "id": "zoqdjhMtcPvt"
      },
      "execution_count": null,
      "outputs": []
    },
    {
      "cell_type": "markdown",
      "metadata": {
        "id": "kUY_iL681qZ1"
      },
      "source": [
        "A seguir, carregamos os dados da tabela de preços e separamos modelos e versões de modelos dos carros:"
      ]
    },
    {
      "cell_type": "code",
      "execution_count": null,
      "metadata": {
        "id": "IhVez2Q91qZ1"
      },
      "outputs": [],
      "source": [
        "prices = pandas.read_csv('/content/drive/MyDrive/fipe_price_list_201710.csv', index_col=[0])\n",
        "\n",
        "# Major maker\n",
        "major_makers = ['Mercedes-Benz', 'BMW', 'Audi', 'VW - Volkswagen', 'Fiat',\n",
        "                'GM - Chevrolet', 'Kia Motors', 'Hyundai', 'Ford', 'Citroën',\n",
        "                'Renault']\n",
        "prices['maker_name_major'] = prices['maker_name'].map(lambda x: x\n",
        "                                                      if x in major_makers else\n",
        "                                                      '_outros_')\n",
        "\n",
        "# Model and version\n",
        "model_version = prices.model_name.str.split(' ', 1)\n",
        "prices['model_name'] = model_version.str[0]\n",
        "prices['model_version'] = model_version.str[1]"
      ]
    },
    {
      "cell_type": "code",
      "execution_count": null,
      "metadata": {
        "id": "AZP5mf0P1qZ2"
      },
      "outputs": [],
      "source": [
        "prices.head()"
      ]
    },
    {
      "cell_type": "code",
      "execution_count": null,
      "metadata": {
        "id": "MdEcnXZZ1qZ2"
      },
      "outputs": [],
      "source": [
        "prices.describe()"
      ]
    },
    {
      "cell_type": "markdown",
      "metadata": {
        "id": "3b5TMpQI1qZ2"
      },
      "source": [
        "### **Modelos por marca**"
      ]
    },
    {
      "cell_type": "code",
      "execution_count": null,
      "metadata": {
        "id": "n2OSA1sk1qZ3"
      },
      "outputs": [],
      "source": [
        "prices_by_models = prices.groupby(['maker_name', 'model_name'])\\\n",
        "    ['price'].agg(['min', 'mean', 'max', 'std'])\n",
        "prices_by_models.reset_index(level=1, inplace=True)\n",
        "prices_by_models.head()"
      ]
    },
    {
      "cell_type": "code",
      "execution_count": null,
      "metadata": {
        "id": "oXAGUNn-1qZ3"
      },
      "outputs": [],
      "source": [
        "models_by_maker = prices_by_models.pivot_table(index=['maker_name'],\n",
        "                                               values='model_name',\n",
        "                                               aggfunc='count')\n",
        "models_by_maker.sort_values(by='model_name', ascending=False, inplace=True)\n",
        "models_by_maker.head()"
      ]
    },
    {
      "cell_type": "code",
      "execution_count": null,
      "metadata": {
        "id": "acuYsWiN1qZ4"
      },
      "outputs": [],
      "source": [
        "ax = models_by_maker.plot.bar(legend=False, figsize=[11, 5])\n",
        "ax.figure.tight_layout()"
      ]
    },
    {
      "cell_type": "code",
      "execution_count": null,
      "metadata": {
        "id": "FluNtIVR1qZ5"
      },
      "outputs": [],
      "source": [
        "prices_by_models = prices.groupby(['maker_name', 'model_name', 'build_year'])\\\n",
        "    ['price'].agg(['min', 'mean', 'max', 'std'])\n",
        "prices_by_models.reset_index(level=[2, 1], inplace=True)\n",
        "prices_by_models.head()"
      ]
    },
    {
      "cell_type": "code",
      "execution_count": null,
      "metadata": {
        "id": "0l4fBa0b1qZ5"
      },
      "outputs": [],
      "source": [
        "models_by_maker = prices_by_models.pivot_table(index=['maker_name'],\n",
        "                                               values='model_name',\n",
        "                                               columns=['build_year'],\n",
        "                                               aggfunc='count')\n",
        "models_by_maker.head()"
      ]
    },
    {
      "cell_type": "code",
      "execution_count": null,
      "metadata": {
        "id": "YPs9QriK1qZ5"
      },
      "outputs": [],
      "source": [
        "models_by_maker_today = models_by_maker[32000].sort_values(ascending=False)\n",
        "ax = models_by_maker_today[models_by_maker_today>0].plot.bar(legend=False,\n",
        "                                                             figsize=[11, 5])\n",
        "ax.figure.tight_layout()"
      ]
    },
    {
      "cell_type": "code",
      "execution_count": null,
      "metadata": {
        "id": "4jASY6PB1qZ6"
      },
      "outputs": [],
      "source": [
        "#...:....|....:....|....:....|....:....|....:....|....:....|....:....|....:....|\n",
        "prices_by_models_major = prices.groupby(['maker_name_major', 'model_name',\n",
        "                                         'build_year'])['price'].agg(['min', 'mean',\n",
        "                                                                      'max', 'std'])\n",
        "prices_by_models_major.reset_index(level=2, inplace=True)\n",
        "prices_by_models_major.head()"
      ]
    },
    {
      "cell_type": "code",
      "execution_count": null,
      "metadata": {
        "id": "ABwXsFiF1qZ6"
      },
      "outputs": [],
      "source": [
        "#...:....|....:....|....:....|....:....|....:....|....:....|....:....|....:....|\n",
        "models_by_maker_major = prices_by_models_major\\\n",
        "    [prices_by_models_major.build_year < 32000].pivot_table(\n",
        "        index='build_year', columns=['maker_name_major'],  values='mean',\n",
        "        aggfunc='count')\n",
        "models_by_maker_major.head()"
      ]
    },
    {
      "cell_type": "code",
      "execution_count": null,
      "metadata": {
        "id": "MgDjab3W1qZ6"
      },
      "outputs": [],
      "source": [
        "colors = pyplot.cm.tab20c(numpy.linspace(0, 1, 11))\n",
        "models_by_maker_major.plot.area(figsize=[11, 5], color=colors)"
      ]
    },
    {
      "cell_type": "markdown",
      "metadata": {
        "id": "NIJtMTwM1qZ7"
      },
      "source": [
        "### **Versões por marca**\n",
        "\n",
        "Estamos analisando desde 1985:"
      ]
    },
    {
      "cell_type": "code",
      "execution_count": null,
      "metadata": {
        "id": "WGeGrVIi1qZ7"
      },
      "outputs": [],
      "source": [
        "ptable_versions = prices.pivot_table(index=['maker_name'], values='model_name',\n",
        "                                     aggfunc=len)\n",
        "ptable_versions.sort_values(by='model_name', ascending=False, inplace=True)"
      ]
    },
    {
      "cell_type": "code",
      "execution_count": null,
      "metadata": {
        "id": "bIPfESh21qZ7"
      },
      "outputs": [],
      "source": [
        "ax = ptable_versions.plot.bar(legend=False, figsize=[11, 5])\n",
        "ax.figure.tight_layout()"
      ]
    },
    {
      "cell_type": "markdown",
      "metadata": {
        "id": "vdU2Gc_y1qZ7"
      },
      "source": [
        "Considerando-se apenas carros novos (0 km):"
      ]
    },
    {
      "cell_type": "code",
      "execution_count": null,
      "metadata": {
        "id": "FZC8xPHf1qZ8"
      },
      "outputs": [],
      "source": [
        "ptable_versions_new = prices[prices.build_year==32000].pivot_table(\n",
        "    index=['maker_name'], values='model_name', aggfunc=len)\n",
        "ptable_versions_new.sort_values(by='model_name', ascending=False, inplace=True)"
      ]
    },
    {
      "cell_type": "code",
      "execution_count": null,
      "metadata": {
        "id": "Bz0E4QdZ1qZ8"
      },
      "outputs": [],
      "source": [
        "ax = ptable_versions_new.plot.bar(legend=False, figsize=[11, 5])\n",
        "ax.figure.tight_layout()"
      ]
    },
    {
      "cell_type": "markdown",
      "metadata": {
        "id": "b2Kyi49Q1qZ8"
      },
      "source": [
        "Ao longo do tempo, quantas versões de carros há no mercado?"
      ]
    },
    {
      "cell_type": "code",
      "execution_count": null,
      "metadata": {
        "id": "-YEd3yk91qZ8"
      },
      "outputs": [],
      "source": [
        "ptable_model_version = prices.pivot_table(index=['maker_name', 'model_name'],\n",
        "                                          columns='build_year',\n",
        "                                          values='model_version', aggfunc=len)"
      ]
    },
    {
      "cell_type": "code",
      "execution_count": null,
      "metadata": {
        "id": "epyeGEVl1qZ8"
      },
      "outputs": [],
      "source": [
        "ptable_model_version.head()"
      ]
    },
    {
      "cell_type": "code",
      "execution_count": null,
      "metadata": {
        "id": "DtaDK40e1qZ9"
      },
      "outputs": [],
      "source": [
        "version_timeseries = ptable_model_version.sum()\n",
        "version_timeseries[version_timeseries.index < 32000].plot.line(figsize=[11, 5])"
      ]
    },
    {
      "cell_type": "markdown",
      "metadata": {
        "id": "ypvy7gDk1qZ9"
      },
      "source": [
        "### **Distribuição de preços**"
      ]
    },
    {
      "cell_type": "code",
      "execution_count": null,
      "metadata": {
        "id": "8Xz8cGuZ1qZ9"
      },
      "outputs": [],
      "source": [
        "bins = numpy.arange(0, 300e3, 1e3)\n",
        "ax = prices['price'].plot.hist(bins=bins, legend=False, figsize=[11, 5],\n",
        "                               linewidth=0, density=True, histtype='stepfilled')"
      ]
    },
    {
      "cell_type": "markdown",
      "metadata": {
        "id": "Eto37zV_1qZ9"
      },
      "source": [
        "#### **Distribuição gaussiana intertida**\n",
        "\n",
        "Aplicando [Inverse gaussian distribution](https://en.wikipedia.org/wiki/Inverse_Gaussian_distribution):\n",
        "\n",
        "\\begin{equation}\n",
        "    f(x\\;|\\;\\mu, \\lambda) = \\sqrt{\\frac{\\lambda}{2\\pi x^3}} e^{-\\frac{\\lambda(x - \\mu)^2}{2 \\mu^2 x}}\n",
        "\\end{equation}"
      ]
    },
    {
      "cell_type": "code",
      "execution_count": null,
      "metadata": {
        "id": "wFXRr7f31qZ9"
      },
      "outputs": [],
      "source": [
        "ax = prices['price'].plot.hist(bins=bins, legend=False, figsize=[11, 5],\n",
        "                               linewidth=0, density=True, histtype='stepfilled')\n",
        "\n",
        "mean, median = prices.price.mean(), prices.price.median()\n",
        "mode = prices.price.mode().values[0]\n",
        "ax.axvline(mean)\n",
        "ax.text(mean+2500, 2e-5, 'Media={:.0f}'.format(mean))\n",
        "ax.axvline(median)\n",
        "ax.text(median+2500, 1.8e-5, 'Mediana={:.0f}'.format(median))\n",
        "ax.axvline(mode)\n",
        "ax.text(mode+2500, 1.6e-5, 'Moda={:.0f}'.format(mode))\n",
        "\n",
        "mu, loc, scale = stats.invgauss.fit(prices['price'])\n",
        "x = 0.5 * (bins[1:] + bins[:-1])  # Center of the bins\n",
        "pdf = stats.invgauss.pdf(x, mu, loc, scale)\n",
        "ax.plot(x, pdf, 'r')\n",
        "ax.annotate('{:.0f}'.format(scale/mu), xy=(scale/mu, 2.45e-5), xycoords='data',\n",
        "                xytext=(30, 10), textcoords='offset points',\n",
        "                fontsize='12', fontstretch='ultra-condensed',\n",
        "                ha='center', va='bottom',\n",
        "                arrowprops=dict(arrowstyle=\"-\",\n",
        "                                connectionstyle='arc3,rad=0.3',\n",
        "                                color='#999999')\n",
        "           )"
      ]
    },
    {
      "cell_type": "code",
      "execution_count": null,
      "metadata": {
        "id": "NaUdvpuz1qZ9"
      },
      "outputs": [],
      "source": [
        "ax = prices['price'][prices.build_year == 32000].plot.hist(\n",
        "    bins=bins, legend=False, figsize=[11, 5], linewidth=0,\n",
        "    histtype='stepfilled')"
      ]
    },
    {
      "cell_type": "code",
      "execution_count": null,
      "metadata": {
        "id": "EKQ4Fjgx1qZ-"
      },
      "outputs": [],
      "source": [
        "prices.where(prices.build_year < 32000)\\\n",
        "    .plot.scatter('build_year', 'price', figsize=[11, 5])"
      ]
    },
    {
      "cell_type": "code",
      "execution_count": null,
      "metadata": {
        "id": "eqYZnPfR1qZ-",
        "scrolled": true
      },
      "outputs": [],
      "source": [
        "ax = prices.boxplot(column='price', by='build_year', rot=45, figsize=[11, 5],\n",
        "                    grid=False)\n",
        "ax.set_ylim([0, 5e5])\n",
        "ax.figure.suptitle('')\n",
        "ax.figure.tight_layout()"
      ]
    },
    {
      "cell_type": "code",
      "execution_count": null,
      "metadata": {
        "id": "F6v3TBQB1qZ-"
      },
      "outputs": [],
      "source": [
        "ptable = prices.pivot_table(values='price', index=['maker_name', 'model_name',\n",
        "                                                   'fuel_type'],\n",
        "                            columns=['build_year'])\n",
        "ptable.describe()"
      ]
    },
    {
      "cell_type": "code",
      "execution_count": null,
      "metadata": {
        "id": "QuGKIfEF1qZ-"
      },
      "outputs": [],
      "source": [
        "fig = pyplot.figure(figsize=[9, 200])\n",
        "ax = seaborn.heatmap(ptable, square=False, cmap='viridis', linewidths=0.1,\n",
        "                     linecolor='#cccccc', vmin=0, vmax=200e3,\n",
        "                     cbar_kws=dict(orientation='horizontal', extend='max',\n",
        "                                   pad=0.0045, aspect=40))\n",
        "fig.tight_layout()"
      ]
    },
    {
      "cell_type": "markdown",
      "metadata": {
        "id": "VJsfH-2W1qZ-"
      },
      "source": [
        "### **Desvalorização ao deixar a concessionária**"
      ]
    },
    {
      "cell_type": "code",
      "execution_count": null,
      "metadata": {
        "id": "zqXy2eXt1qZ_"
      },
      "outputs": [],
      "source": [
        "def get_almost_new(df):\n",
        "    if not pandas.isnull(df[2018]):\n",
        "        return df[2018]\n",
        "    elif not pandas.isnull(df[2017]):\n",
        "        return df[2017]\n",
        "    elif not pandas.isnull(df[2016]):\n",
        "        return df[2016]\n",
        "    else:\n",
        "        return numpy.nan\n",
        "\n",
        "\n",
        "prices_ptable = prices.where(prices.build_year >= 2016)\\\n",
        "    .pivot_table(values='price', columns=['build_year'],\n",
        "                 index=['maker_name', 'model_name', 'fipe_code'], aggfunc=sum)\n",
        "prices_ptable['almostnew'] = [get_almost_new(prices_ptable.iloc[n]) for n\n",
        "                                  in range(len(prices_ptable))]\n",
        "prices_ptable['rel_devaluation'] = 1 - (prices_ptable['almostnew'] /\n",
        "                                    prices_ptable[32000])\n",
        "\n",
        "ax = prices_ptable.plot.scatter([32000], 'rel_devaluation', logx=True,\n",
        "                                figsize=[11, 5], by='maker_name')\n",
        "ax.set_xlabel('')\n",
        "ax.figure.tight_layout()"
      ]
    },
    {
      "cell_type": "code",
      "execution_count": null,
      "metadata": {
        "id": "mKcwW8GY1qZ_"
      },
      "outputs": [],
      "source": [
        "ax = prices_ptable.boxplot(column='rel_devaluation', by='maker_name', rot=90,\n",
        "                           grid=False, figsize=[11, 5])\n",
        "ax.figure.suptitle('')\n",
        "ax.figure.tight_layout()"
      ]
    },
    {
      "cell_type": "markdown",
      "source": [
        "---\n",
        "\n",
        "Notebook utilizado para fins educacionais da **Awari**.\n",
        "\n",
        "**© AWARI. Todos os direitos reservados.**"
      ],
      "metadata": {
        "id": "mJQaBEi9bPtH"
      }
    }
  ],
  "metadata": {
    "colab": {
      "provenance": [],
      "toc_visible": true
    },
    "kernelspec": {
      "display_name": "Python 3",
      "language": "python",
      "name": "python3"
    },
    "language_info": {
      "codemirror_mode": {
        "name": "ipython",
        "version": 3
      },
      "file_extension": ".py",
      "mimetype": "text/x-python",
      "name": "python",
      "nbconvert_exporter": "python",
      "pygments_lexer": "ipython3",
      "version": "3.5.3"
    }
  },
  "nbformat": 4,
  "nbformat_minor": 0
}