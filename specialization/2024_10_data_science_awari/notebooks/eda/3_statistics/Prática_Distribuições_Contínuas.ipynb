{
  "cells": [
    {
      "cell_type": "markdown",
      "source": [
        "![header-notebooks.png](data:image/png;base64,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)\n",
        "\n",
        "Prática da **Aula 10: Estatística Inferencial II**, do curso de **Data Science** da **[Awari](https://awari.com.br/)**. Para utilizá-la, vá no menu \"Arquivo\" e, em seguida, na opção \"Salvar uma cópia no Drive\". Isto criará uma cópia deste notebook em uma pasta chamada \"Colab Notebooks\", no seu Google Drive pessoal. Use a cópia para criar novas células de código ou executar as células desta prática.\n",
        "\n",
        "---"
      ],
      "metadata": {
        "id": "PMpt04QPygjD"
      },
      "id": "PMpt04QPygjD"
    },
    {
      "cell_type": "markdown",
      "source": [
        "# **Distribuições Contínuas**"
      ],
      "metadata": {
        "id": "xVKshIHX65Q2"
      },
      "id": "xVKshIHX65Q2"
    },
    {
      "cell_type": "markdown",
      "source": [
        "## **Objetivo**\n",
        "\n",
        "Nesta prática, vamos ver sobre Distribuições Contínuas em Estatística. Trataremos de:\n",
        "\n",
        "* Distribuição normal ou gaussiana;\n",
        "* Distribuição contínua exponencial; e\n",
        "* Teste de normalidade."
      ],
      "metadata": {
        "id": "ZRG392Jfyx-E"
      },
      "id": "ZRG392Jfyx-E"
    },
    {
      "cell_type": "markdown",
      "source": [
        "## **Prática**\n",
        "\n",
        "Vamos iniciar a prática. Durante a aula, os conceitos e técnicos serão explicados com mais detalhes."
      ],
      "metadata": {
        "id": "aSNmwGOazJIf"
      },
      "id": "aSNmwGOazJIf"
    },
    {
      "cell_type": "code",
      "execution_count": null,
      "id": "3c47daa3",
      "metadata": {
        "id": "3c47daa3"
      },
      "outputs": [],
      "source": [
        "# Importando bibliotecas\n",
        "import numpy as np # Cálculo numérico\n",
        "import seaborn as sns # Gráficos\n",
        "from scipy import stats # Complementa Numpy em cálculo numérico"
      ]
    },
    {
      "cell_type": "markdown",
      "source": [
        "### **Distribuição normal ou Gaussiana**"
      ],
      "metadata": {
        "id": "Z87FF8saBOy6"
      },
      "id": "Z87FF8saBOy6"
    },
    {
      "cell_type": "markdown",
      "source": [
        "#### **Exemplo 1**\n",
        "\n",
        "Geraremos amostras randômicas contínuas. Usaremos a função [`scipy.stats.norm`](https://docs.scipy.org/doc/scipy/reference/generated/scipy.stats.norm.html), de uma outra biblioteca, chamada [Scipy](https://scipy.org/) (*Scientific Python*), para isso:"
      ],
      "metadata": {
        "id": "FtE5VZmX7rKC"
      },
      "id": "FtE5VZmX7rKC"
    },
    {
      "cell_type": "code",
      "execution_count": null,
      "id": "4c1bc002",
      "metadata": {
        "id": "4c1bc002"
      },
      "outputs": [],
      "source": [
        "# Gerando uma amostra aleatória normalizada\n",
        "dados_normal = stats.norm.rvs(size=1000)"
      ]
    },
    {
      "cell_type": "markdown",
      "source": [
        "Vericando a variável:"
      ],
      "metadata": {
        "id": "fH3N_8XY86FD"
      },
      "id": "fH3N_8XY86FD"
    },
    {
      "cell_type": "code",
      "execution_count": null,
      "id": "1e115c23",
      "metadata": {
        "id": "1e115c23"
      },
      "outputs": [],
      "source": [
        "type(dados_normal)"
      ]
    },
    {
      "cell_type": "markdown",
      "source": [
        "Verificando o intervalo gerado:"
      ],
      "metadata": {
        "id": "lI0eAYeK9DWR"
      },
      "id": "lI0eAYeK9DWR"
    },
    {
      "cell_type": "code",
      "execution_count": null,
      "id": "3572a67a",
      "metadata": {
        "id": "3572a67a"
      },
      "outputs": [],
      "source": [
        "dados_normal.min(), dados_normal.max()"
      ]
    },
    {
      "cell_type": "markdown",
      "source": [
        "Para visualizarmos a curva de distribuição, utilizamos a opção `kde = True`. KDE é a sigla para *Kernel Density Estimation* ou [Estimativa de Densidade do Kernel](https://pt.wikipedia.org/wiki/Estimativa_de_densidade_kernel)."
      ],
      "metadata": {
        "id": "ejnB0fgM9Izf"
      },
      "id": "ejnB0fgM9Izf"
    },
    {
      "cell_type": "code",
      "execution_count": null,
      "id": "76dc448e",
      "metadata": {
        "id": "76dc448e"
      },
      "outputs": [],
      "source": [
        "# Plotando gráfico de distribuição com a curva KDE\n",
        "sns.displot(dados_normal, kde=True);"
      ]
    },
    {
      "cell_type": "markdown",
      "source": [
        "Agora, vamos avaliar algumas medidas de tendência central:"
      ],
      "metadata": {
        "id": "Hh_lxQUJ-8FW"
      },
      "id": "Hh_lxQUJ-8FW"
    },
    {
      "cell_type": "code",
      "execution_count": null,
      "id": "68d9c42a",
      "metadata": {
        "id": "68d9c42a"
      },
      "outputs": [],
      "source": [
        "# Média\n",
        "dados_normal.mean()"
      ]
    },
    {
      "cell_type": "code",
      "execution_count": null,
      "id": "168500af",
      "metadata": {
        "id": "168500af"
      },
      "outputs": [],
      "source": [
        "# Mediana\n",
        "np.median(dados_normal)"
      ]
    },
    {
      "cell_type": "code",
      "execution_count": null,
      "id": "5f6621de",
      "metadata": {
        "id": "5f6621de"
      },
      "outputs": [],
      "source": [
        "# Variância da amostra\n",
        "np.var(dados_normal)"
      ]
    },
    {
      "cell_type": "code",
      "execution_count": null,
      "id": "89d8a066",
      "metadata": {
        "id": "89d8a066"
      },
      "outputs": [],
      "source": [
        "# Desvio padrão\n",
        "np.std(dados_normal)"
      ]
    },
    {
      "cell_type": "markdown",
      "source": [
        "Em seguida, iremos conferir a centralidade dos dados:"
      ],
      "metadata": {
        "id": "bBKNZNIPLMEA"
      },
      "id": "bBKNZNIPLMEA"
    },
    {
      "cell_type": "code",
      "execution_count": null,
      "id": "9cd2f6da",
      "metadata": {
        "id": "9cd2f6da"
      },
      "outputs": [],
      "source": [
        "# Dados do lado direito\n",
        "direita = np.sum(((dados_normal >= 0.9888061094258027) & (dados_normal <= 0.9888061094258027 + 1)))"
      ]
    },
    {
      "cell_type": "code",
      "execution_count": null,
      "id": "c761d8fb",
      "metadata": {
        "id": "c761d8fb"
      },
      "outputs": [],
      "source": [
        "# Dados do lado esquerdo\n",
        "esquerda = np.sum(((dados_normal <= 0.9888061094258027) & (dados_normal >= 0.9888061094258027 -1)))"
      ]
    },
    {
      "cell_type": "code",
      "execution_count": null,
      "id": "92426055",
      "metadata": {
        "id": "92426055"
      },
      "outputs": [],
      "source": [
        "# O quanto os dados estão centrados\n",
        "centralidade = (direita + esquerda) / 1000 * 100\n",
        "print(\"Os dados estão com uma centralidade de \" + str(centralidade) + \"%\")"
      ]
    },
    {
      "cell_type": "markdown",
      "source": [
        "#### **Exemplo 2**\n",
        "\n",
        "Aqui, vamos usar uma amostra composta por um *array* que contém a altura de diversas observações:"
      ],
      "metadata": {
        "id": "BjoZiLspBTmd"
      },
      "id": "BjoZiLspBTmd"
    },
    {
      "cell_type": "code",
      "execution_count": null,
      "id": "633b1695",
      "metadata": {
        "id": "633b1695"
      },
      "outputs": [],
      "source": [
        "dados = np.array([126. , 129.5, 133. , 133. , 136.5, 136.5, 140. , 140. , 140. ,\n",
        "                  140. , 143.5, 143.5, 143.5, 143.5, 143.5, 143.5, 147. , 147. ,\n",
        "                  147. , 147. , 147. , 147. , 147. , 150.5, 150.5, 150.5, 150.5,\n",
        "                  150.5, 150.5, 150.5, 150.5, 154. , 154. , 154. , 154. , 154. ,\n",
        "                  154. , 154. , 154. , 154. , 157.5, 157.5, 157.5, 157.5, 157.5,\n",
        "                  157.5, 157.5, 157.5, 157.5, 157.5, 161. , 161. , 161. , 161. ,\n",
        "                  161. , 161. , 161. , 161. , 161. , 161. , 164.5, 164.5, 164.5,\n",
        "                  164.5, 164.5, 164.5, 164.5, 164.5, 164.5, 168. , 168. , 168. ,\n",
        "                  168. , 168. , 168. , 168. , 168. , 171.5, 171.5, 171.5, 171.5,\n",
        "                  171.5, 171.5, 171.5, 175. , 175. , 175. , 175. , 175. , 175. ,\n",
        "                  178.5, 178.5, 178.5, 178.5, 182. , 182. , 185.5, 185.5, 189., 192.5])"
      ]
    },
    {
      "cell_type": "code",
      "execution_count": null,
      "id": "df3b626a",
      "metadata": {
        "id": "df3b626a"
      },
      "outputs": [],
      "source": [
        "# Conferindo o tamanho da amostra\n",
        "len(dados)"
      ]
    },
    {
      "cell_type": "code",
      "execution_count": null,
      "id": "c005b062",
      "metadata": {
        "id": "c005b062"
      },
      "outputs": [],
      "source": [
        "# Valores mínimos e máximos\n",
        "min(dados), max(dados)"
      ]
    },
    {
      "cell_type": "code",
      "execution_count": null,
      "id": "d1c25e78",
      "metadata": {
        "id": "d1c25e78"
      },
      "outputs": [],
      "source": [
        "# Média\n",
        "dados.mean()"
      ]
    },
    {
      "cell_type": "code",
      "execution_count": null,
      "id": "1d2af61f",
      "metadata": {
        "id": "1d2af61f"
      },
      "outputs": [],
      "source": [
        "# Mediana\n",
        "np.median(dados)"
      ]
    },
    {
      "cell_type": "code",
      "execution_count": null,
      "id": "8f46170d",
      "metadata": {
        "id": "8f46170d"
      },
      "outputs": [],
      "source": [
        "# Moda\n",
        "stats.mode(dados)"
      ]
    },
    {
      "cell_type": "code",
      "execution_count": null,
      "id": "27d93101",
      "metadata": {
        "id": "27d93101"
      },
      "outputs": [],
      "source": [
        "# Variância da amostra\n",
        "np.var(dados)"
      ]
    },
    {
      "cell_type": "code",
      "execution_count": null,
      "id": "cdd50e16",
      "metadata": {
        "id": "cdd50e16"
      },
      "outputs": [],
      "source": [
        "# Desvio padrão\n",
        "np.std(dados)"
      ]
    },
    {
      "cell_type": "markdown",
      "source": [
        "Visualizando e analisando a distribução em um histograma, com a curva KDE:"
      ],
      "metadata": {
        "id": "5oKeZDcFCFev"
      },
      "id": "5oKeZDcFCFev"
    },
    {
      "cell_type": "code",
      "execution_count": null,
      "id": "3fa77b41",
      "metadata": {
        "id": "3fa77b41"
      },
      "outputs": [],
      "source": [
        "# Plotando gráfico com as curvas\n",
        "sns.displot(dados, kde=True);"
      ]
    },
    {
      "cell_type": "markdown",
      "source": [
        "### **Distribuição Contínua Exponencial**\n",
        "\n",
        "Para este exemplo, vamos usar `expon` da biblioteca Scipy:"
      ],
      "metadata": {
        "id": "Z4VXcc_KDSTU"
      },
      "id": "Z4VXcc_KDSTU"
    },
    {
      "cell_type": "code",
      "source": [
        "# Importando expon\n",
        "from scipy.stats import expon"
      ],
      "metadata": {
        "id": "JxTgfVG0DXKP"
      },
      "id": "JxTgfVG0DXKP",
      "execution_count": null,
      "outputs": []
    },
    {
      "cell_type": "code",
      "source": [
        "# Gerando amostra aleatória contínua exponencial\n",
        "dados_expon = expon.rvs(size=1000)"
      ],
      "metadata": {
        "id": "Y9D5YyXFDm1o"
      },
      "id": "Y9D5YyXFDm1o",
      "execution_count": null,
      "outputs": []
    },
    {
      "cell_type": "code",
      "source": [
        "# Plotando a distribuição com a curva KDE\n",
        "sns.displot(dados_expon, kde=True);"
      ],
      "metadata": {
        "id": "S_iZ5TfnDy2p"
      },
      "id": "S_iZ5TfnDy2p",
      "execution_count": null,
      "outputs": []
    },
    {
      "cell_type": "markdown",
      "source": [
        "### **Teste de normalidade e gráfico QQ**\n",
        "\n",
        "Aqui, é importante sabermos o seguinte:\n",
        "\n",
        "- **Estatística paramétrica:** os dados estão em alguma distribuição, geralmente a distribuição normal.\n",
        "- **Estatística não paramétrica:** os dados estão em outra distribuição (ou desconhecida).\n",
        "\n",
        "Se os dados são **\"normais\"**, usamos estatísticas **paramétricas**. Caso contrário, usamos estatística não paramétrica.\n",
        "\n",
        "Vamos gerar agora uma **curva normal** e uma **não normal**, utilizando Scipy com `norm` e `skewnorm` para entendermos isso:"
      ],
      "metadata": {
        "id": "nO4ztIbdEgAf"
      },
      "id": "nO4ztIbdEgAf"
    },
    {
      "cell_type": "code",
      "source": [
        "# Importanto norm e skewnorm\n",
        "from scipy.stats import skewnorm\n",
        "from scipy.stats import norm"
      ],
      "metadata": {
        "id": "X6q8cQxSEtrp"
      },
      "id": "X6q8cQxSEtrp",
      "execution_count": null,
      "outputs": []
    },
    {
      "cell_type": "code",
      "source": [
        "# Gerando amostra com distribuição normal\n",
        "dados_normais = norm.rvs(size=1000)"
      ],
      "metadata": {
        "id": "lheMw5p9E20o"
      },
      "id": "lheMw5p9E20o",
      "execution_count": null,
      "outputs": []
    },
    {
      "cell_type": "code",
      "source": [
        "# Analisando a distribuição da amostra normal\n",
        "sns.displot(dados_normais, kde=True)"
      ],
      "metadata": {
        "id": "zcS_6IzlFwCk"
      },
      "id": "zcS_6IzlFwCk",
      "execution_count": null,
      "outputs": []
    },
    {
      "cell_type": "code",
      "source": [
        "# Gerando amostra com dados distribuídos de forma não normalizada\n",
        "dados_naoNormais = skewnorm.rvs(a=10, size=1000)"
      ],
      "metadata": {
        "id": "UQKXcHQGFkmu"
      },
      "id": "UQKXcHQGFkmu",
      "execution_count": null,
      "outputs": []
    },
    {
      "cell_type": "code",
      "source": [
        "# analisando a distribuição da amostra NÃO normal\n",
        "sns.displot(dados_naoNormais, kde=True);"
      ],
      "metadata": {
        "id": "LeKGKqfTF_hx"
      },
      "id": "LeKGKqfTF_hx",
      "execution_count": null,
      "outputs": []
    },
    {
      "cell_type": "markdown",
      "source": [
        "#### **Quantile-quantile plot ou Gráfico QQ**"
      ],
      "metadata": {
        "id": "IAzCSrxFGjj2"
      },
      "id": "IAzCSrxFGjj2"
    },
    {
      "cell_type": "code",
      "source": [
        "# Importando qqplot\n",
        "from statsmodels.graphics.gofplots import qqplot"
      ],
      "metadata": {
        "id": "jXheyJfeGiku"
      },
      "id": "jXheyJfeGiku",
      "execution_count": null,
      "outputs": []
    },
    {
      "cell_type": "markdown",
      "source": [
        "Analisando as curvas do gráfico QQ para a amostra normal:"
      ],
      "metadata": {
        "id": "Gjp_8_lYG0NJ"
      },
      "id": "Gjp_8_lYG0NJ"
    },
    {
      "cell_type": "code",
      "source": [
        "qqplot(dados_normais, line='s');\n"
      ],
      "metadata": {
        "id": "42eGSJgGG44W"
      },
      "id": "42eGSJgGG44W",
      "execution_count": null,
      "outputs": []
    },
    {
      "cell_type": "markdown",
      "source": [
        "Analisando as curvas do gráfico QQ para a amostra não normal:"
      ],
      "metadata": {
        "id": "FmpHzN1NHAxy"
      },
      "id": "FmpHzN1NHAxy"
    },
    {
      "cell_type": "code",
      "source": [
        "qqplot(dados_naoNormais, line='s');"
      ],
      "metadata": {
        "id": "mdXlk4L6Gz05"
      },
      "id": "mdXlk4L6Gz05",
      "execution_count": null,
      "outputs": []
    },
    {
      "cell_type": "markdown",
      "source": [
        "## **Sugestões ao instrutor e aos alunos**\n",
        "\n",
        "Caso seja viável no tempo de aula, o instrutor por abordar mais exemplos ou deter-se melhor sobre os casos tratados aqui.\n",
        "\n",
        "Aos alunos, cabe lembrar que as mesmas análises feitas aqui podem ser aplicadas a outros datasets, como o do nafrágio do Titanic, por exemplo. Com isso, é possível ver que tipo de distribuição que determinadas variáveis seguem e aplicar análises mais refinadas a partir disso."
      ],
      "metadata": {
        "id": "2klthBLJGiMa"
      },
      "id": "2klthBLJGiMa"
    },
    {
      "cell_type": "markdown",
      "source": [
        "---\n",
        "\n",
        "Notebook utilizado para fins educacionais da **Awari**.\n",
        "\n",
        "**© AWARI. Todos os direitos reservados.**"
      ],
      "metadata": {
        "id": "xCGyHyFAyqSA"
      },
      "id": "xCGyHyFAyqSA"
    }
  ],
  "metadata": {
    "kernelspec": {
      "display_name": "Python 3 (ipykernel)",
      "language": "python",
      "name": "python3"
    },
    "language_info": {
      "codemirror_mode": {
        "name": "ipython",
        "version": 3
      },
      "file_extension": ".py",
      "mimetype": "text/x-python",
      "name": "python",
      "nbconvert_exporter": "python",
      "pygments_lexer": "ipython3",
      "version": "3.9.7"
    },
    "colab": {
      "provenance": []
    }
  },
  "nbformat": 4,
  "nbformat_minor": 5
}