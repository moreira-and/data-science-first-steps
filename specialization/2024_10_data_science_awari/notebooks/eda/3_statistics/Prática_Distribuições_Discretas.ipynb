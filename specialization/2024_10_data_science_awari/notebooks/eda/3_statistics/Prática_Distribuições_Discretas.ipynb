{
  "cells": [
    {
      "cell_type": "markdown",
      "source": [
        "![header-notebooks.png](data:image/png;base64,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)\n",
        "\n",
        "Prática da **Aula 10: Estatística Inferencial II**, do curso de **Data Science** da **[Awari](https://awari.com.br/)**. Para utilizá-la, vá no menu \"Arquivo\" e, em seguida, na opção \"Salvar uma cópia no Drive\". Isto criará uma cópia deste notebook em uma pasta chamada \"Colab Notebooks\", no seu Google Drive pessoal. Use a cópia para criar novas células de código ou executar as células desta prática.\n",
        "\n",
        "---"
      ],
      "metadata": {
        "id": "rdpFm6iA4L-Y"
      },
      "id": "rdpFm6iA4L-Y"
    },
    {
      "cell_type": "markdown",
      "source": [
        "# **Distribuições Discretas**"
      ],
      "metadata": {
        "id": "xVKshIHX65Q2"
      },
      "id": "xVKshIHX65Q2"
    },
    {
      "cell_type": "markdown",
      "source": [
        "## **Objetivo**\n",
        "\n",
        "Nesta prática, vamos ver sobre outros tipos de distribuições. Trataremos de:\n",
        "\n",
        "* Distribuição de Bernoulli;\n",
        "* Distribuição Binomial;\n",
        "* Distribuição de Poisson; e\n",
        "* Distribuição Qui-Quadrado."
      ],
      "metadata": {
        "id": "GAWLK8DA4XZP"
      },
      "id": "GAWLK8DA4XZP"
    },
    {
      "cell_type": "markdown",
      "source": [
        "## **Prática**"
      ],
      "metadata": {
        "id": "sWIi7wMo494Z"
      },
      "id": "sWIi7wMo494Z"
    },
    {
      "cell_type": "markdown",
      "source": [
        "### **Distribuição de Bernoulli**\n",
        "\n",
        "Vamos usar a função [scipy.stats.bernoulli](https://het.as.utexas.edu/HET/Software/Scipy/generated/scipy.stats.bernoulli.html#scipy-stats-bernoulli), da biblioteca SciPy (Scientific Python) para gerar variáveis randômicas discretas:"
      ],
      "metadata": {
        "id": "Z87FF8saBOy6"
      },
      "id": "Z87FF8saBOy6"
    },
    {
      "cell_type": "code",
      "source": [
        "from scipy.stats import bernoulli\n",
        "import seaborn as sns\n",
        "import numpy as np"
      ],
      "metadata": {
        "id": "VK0f3Pkr26yj"
      },
      "id": "VK0f3Pkr26yj",
      "execution_count": null,
      "outputs": []
    },
    {
      "cell_type": "markdown",
      "source": [
        "Gerando 1000 ensaios:"
      ],
      "metadata": {
        "id": "rOeEXZcM3u7d"
      },
      "id": "rOeEXZcM3u7d"
    },
    {
      "cell_type": "code",
      "source": [
        "dados_be = bernoulli.rvs(size=1000, p=0.5)"
      ],
      "metadata": {
        "id": "7aFuXPod3tfB"
      },
      "id": "7aFuXPod3tfB",
      "execution_count": null,
      "outputs": []
    },
    {
      "cell_type": "markdown",
      "source": [
        "Visualizando o *array* gerado:"
      ],
      "metadata": {
        "id": "zccRRAJA36eP"
      },
      "id": "zccRRAJA36eP"
    },
    {
      "cell_type": "code",
      "source": [
        "dados_be"
      ],
      "metadata": {
        "id": "B6d9Ynfu31I2"
      },
      "id": "B6d9Ynfu31I2",
      "execution_count": null,
      "outputs": []
    },
    {
      "cell_type": "markdown",
      "source": [
        "Vamos encontrar os elementos unicos de uma matriz, utilizando [`np.unique`](https://numpy.org/doc/stable/reference/generated/numpy.unique.html), que retorna os elementos exclusivos classificados de uma matriz:"
      ],
      "metadata": {
        "id": "WDhUk-3-4oUk"
      },
      "id": "WDhUk-3-4oUk"
    },
    {
      "cell_type": "code",
      "source": [
        "np.unique(dados_be, return_counts=True)"
      ],
      "metadata": {
        "id": "1ZM6Go4c4Fgv"
      },
      "id": "1ZM6Go4c4Fgv",
      "execution_count": null,
      "outputs": []
    },
    {
      "cell_type": "markdown",
      "source": [
        "Então, vamos visualizar então como fica a distribuição de Bernoulli em um gráfico:"
      ],
      "metadata": {
        "id": "-ESQNhJb43Jg"
      },
      "id": "-ESQNhJb43Jg"
    },
    {
      "cell_type": "code",
      "execution_count": null,
      "id": "4c1bc002",
      "metadata": {
        "id": "4c1bc002"
      },
      "outputs": [],
      "source": [
        "sns.displot(dados_be, kde=True);"
      ]
    },
    {
      "cell_type": "markdown",
      "source": [
        "### **Distribuição Binomial**"
      ],
      "metadata": {
        "id": "QRaceCIw5Q9e"
      },
      "id": "QRaceCIw5Q9e"
    },
    {
      "cell_type": "markdown",
      "source": [
        "Vamos usar a função [`scipy.stats.binom`](https://docs.scipy.org/doc/scipy/reference/generated/scipy.stats.binom.html) para gerar variáveis randômicas discretais binomiais:\n"
      ],
      "metadata": {
        "id": "uMJKyA1z5bx7"
      },
      "id": "uMJKyA1z5bx7"
    },
    {
      "cell_type": "code",
      "execution_count": null,
      "id": "1e115c23",
      "metadata": {
        "id": "1e115c23"
      },
      "outputs": [],
      "source": [
        "from scipy.stats import binom"
      ]
    },
    {
      "cell_type": "code",
      "source": [
        "# Gerando amostra randômica\n",
        "dados_binom = binom.rvs(size=1000, n=10, p=0.8)"
      ],
      "metadata": {
        "id": "YhFOB6P359Zt"
      },
      "id": "YhFOB6P359Zt",
      "execution_count": null,
      "outputs": []
    },
    {
      "cell_type": "code",
      "execution_count": null,
      "id": "3572a67a",
      "metadata": {
        "id": "3572a67a"
      },
      "outputs": [],
      "source": [
        "# Verificando as variáveis geradas\n",
        "dados_binom"
      ]
    },
    {
      "cell_type": "markdown",
      "source": [
        "Então, vamos encontrar os elementos unicos de uma matriz novamente, utilizando `np.unique` e plotar o gráfico da distribuição:"
      ],
      "metadata": {
        "id": "Do9VKe126cLv"
      },
      "id": "Do9VKe126cLv"
    },
    {
      "cell_type": "code",
      "source": [
        "np.unique(dados_binom, return_counts=True)"
      ],
      "metadata": {
        "id": "ERHf7CG-6Qgo"
      },
      "id": "ERHf7CG-6Qgo",
      "execution_count": null,
      "outputs": []
    },
    {
      "cell_type": "code",
      "source": [
        "sns.displot(dados_binom, kde=True);"
      ],
      "metadata": {
        "id": "zogl863z6Urj"
      },
      "id": "zogl863z6Urj",
      "execution_count": null,
      "outputs": []
    },
    {
      "cell_type": "markdown",
      "source": [
        "### **Distribuição de Poisson**"
      ],
      "metadata": {
        "id": "N1EKcvzv6jxr"
      },
      "id": "N1EKcvzv6jxr"
    },
    {
      "cell_type": "markdown",
      "source": [
        "Usaremos a função [`scipy.stats.poisson`](https://docs.scipy.org/doc/scipy/reference/generated/scipy.stats.poisson) para gerar as variáveis:"
      ],
      "metadata": {
        "id": "g2T2uJCI7DZG"
      },
      "id": "g2T2uJCI7DZG"
    },
    {
      "cell_type": "code",
      "source": [
        "from scipy.stats import poisson"
      ],
      "metadata": {
        "id": "fawPV4A962jq"
      },
      "id": "fawPV4A962jq",
      "execution_count": null,
      "outputs": []
    },
    {
      "cell_type": "code",
      "source": [
        "# Gerando amostra\n",
        "dados_poisson = poisson.rvs(size=1000, mu=1)"
      ],
      "metadata": {
        "id": "ShuIxaM57eDO"
      },
      "id": "ShuIxaM57eDO",
      "execution_count": null,
      "outputs": []
    },
    {
      "cell_type": "code",
      "source": [
        "# Intervalo da amostra gerada\n",
        "min(dados_poisson), max(dados_poisson)"
      ],
      "metadata": {
        "id": "zrhBYYki7kf1"
      },
      "id": "zrhBYYki7kf1",
      "execution_count": null,
      "outputs": []
    },
    {
      "cell_type": "code",
      "source": [
        "# Elementos únicos\n",
        "np.unique(dados_poisson, return_counts=True)"
      ],
      "metadata": {
        "id": "lE3UhPVw7sa2"
      },
      "id": "lE3UhPVw7sa2",
      "execution_count": null,
      "outputs": []
    },
    {
      "cell_type": "code",
      "source": [
        "# Analisando Poisson em um gráfico\n",
        "sns.displot(dados_poisson, kde=True);"
      ],
      "metadata": {
        "id": "NKqy9I7v8DJy"
      },
      "id": "NKqy9I7v8DJy",
      "execution_count": null,
      "outputs": []
    },
    {
      "cell_type": "markdown",
      "source": [
        "### **Distribuição Qui-Quadrado**"
      ],
      "metadata": {
        "id": "uXTiAQy2_GKM"
      },
      "id": "uXTiAQy2_GKM"
    },
    {
      "cell_type": "markdown",
      "source": [
        "#### **Importando as bibliotecas**\n",
        "\n",
        "Aqui, o Scipy nos ajuda novamente com `chi2_contingency`:"
      ],
      "metadata": {
        "id": "Y02T5_PA_xvv"
      },
      "id": "Y02T5_PA_xvv"
    },
    {
      "cell_type": "code",
      "source": [
        "# Importando bibliotecas\n",
        "from scipy.stats import chi2_contingency\n",
        "import matplotlib.pyplot as plt\n",
        "import pandas as pd"
      ],
      "metadata": {
        "id": "RtIoG1HY_F26"
      },
      "id": "RtIoG1HY_F26",
      "execution_count": null,
      "outputs": []
    },
    {
      "cell_type": "markdown",
      "source": [
        "#### **Obtendo um dataset**\n",
        "\n",
        "Esta base de dados utilizada a seguir foi obtida do [Kaggle]((https://www.kaggle.com/datasets/julienjta/wrestling-world-tournament?resource=download)) em 12/09/2022.\n",
        "\n"
      ],
      "metadata": {
        "id": "oOYDeISI_6te"
      },
      "id": "oOYDeISI_6te"
    },
    {
      "cell_type": "code",
      "source": [
        "df = pd.read_csv('https://raw.githubusercontent.com/persival-iania/datasets/main/data.csv')"
      ],
      "metadata": {
        "id": "FTeD1mNzArWi"
      },
      "id": "FTeD1mNzArWi",
      "execution_count": null,
      "outputs": []
    },
    {
      "cell_type": "code",
      "source": [
        "df"
      ],
      "metadata": {
        "id": "HShwN1S3BHSH"
      },
      "id": "HShwN1S3BHSH",
      "execution_count": null,
      "outputs": []
    },
    {
      "cell_type": "markdown",
      "source": [
        "A base tem 500 linhas e 15 colunas. Ela contém informações de 500 lutadores de três federações, que competiram em lutas de um contra um. As colunas, variáveis ou *features* significam:\n",
        "\n",
        "* Nome\n",
        "* Gênero\n",
        "* Idade\n",
        "* Altura\n",
        "* Nacionalidade\n",
        "* Peso\n",
        "* Arte marcial praticada\n",
        "* Número de horas diárias gastas em treino\n",
        "* Escore de força\n",
        "* Escore de agilidade\n",
        "* Escore de capaciedade mental\n",
        "* Federação\n",
        "* Ano de início no esporte\n",
        "* Ranking final na competição"
      ],
      "metadata": {
        "id": "91hpPzBhBTmY"
      },
      "id": "91hpPzBhBTmY"
    },
    {
      "cell_type": "markdown",
      "source": [
        "#### **Problema a ser analisado**\n",
        "\n",
        "Queremos analisar a base de dados a fim de entender se as diferentes características de cada lutador podem indicar uma posição maior ou menor no ranking final.\n",
        "\n",
        "Para solucioná-lo, seria possível analisar cada uma das variáveis isoladamente e observar como o comportamento delas pode mudar a depender do ranking.\n",
        "\n",
        "Buscando automatizar esse processo e obter resultados mais confiáveis, podemos utilizar um teste estatístico para comparar as variáveis categóricas: o Teste Qui-Quadrado."
      ],
      "metadata": {
        "id": "XuM3kHSbBYPy"
      },
      "id": "XuM3kHSbBYPy"
    },
    {
      "cell_type": "markdown",
      "source": [
        "#### **Explorando os dados**\n",
        "\n",
        "Uma boa forma de entendermos o comportamento das variáveis de nossa base de dados é com a utilização de histogramas.\n",
        "\n",
        "É possível realizar o plot do histograma de cada variável pela biblioteca Pandas:"
      ],
      "metadata": {
        "id": "9lhcH57dBddo"
      },
      "id": "9lhcH57dBddo"
    },
    {
      "cell_type": "code",
      "source": [
        "df.gender.hist()"
      ],
      "metadata": {
        "id": "ycbbRuwrBOSS"
      },
      "id": "ycbbRuwrBOSS",
      "execution_count": null,
      "outputs": []
    },
    {
      "cell_type": "markdown",
      "source": [
        "Contudo, para termos uma visão geral da base, podemos utilizar um `for` para plotar o histograma de todas as variáveis de interesse:"
      ],
      "metadata": {
        "id": "Tc63NQzV_3f9"
      },
      "id": "Tc63NQzV_3f9"
    },
    {
      "cell_type": "code",
      "source": [
        "var = ['gender', 'age', 'height', 'nationality', 'weight', 'sports', 'hours_per_day', 'strength', 'agility', 'mental', 'rank', 'federation']\n",
        "\n",
        "for i in var:\n",
        "    plt.figure(figsize = (10, 6))\n",
        "    plt.hist(df[i]);\n",
        "    plt.title(f'Histograma da variável {i}')\n",
        "    plt.show()"
      ],
      "metadata": {
        "id": "MLEi0mbqBoWx"
      },
      "id": "MLEi0mbqBoWx",
      "execution_count": null,
      "outputs": []
    },
    {
      "cell_type": "markdown",
      "source": [
        "#### **Características observadas**\n",
        "\n",
        "* Variáveis categóricas:\n",
        "  * gender\n",
        "  * nationality\n",
        "  * sports\n",
        "  * federation\n",
        "* Variáveis numéricas:\n",
        "  * age\n",
        "  * height\n",
        "  * weight\n",
        "  * hours per day\n",
        "  * strength\n",
        "  * agility\n",
        "  * mental\n",
        "\n",
        "Para comparar as variáveis numéricas com a variável `rank`, será necessário agrupá-las em intervalos para ser possível analisá-las em conjunto.\n",
        "\n",
        "Ademais, como a variável `sports` possui diversas opções combinadas, será necessário separar cada uma das variáveis em uma coluna."
      ],
      "metadata": {
        "id": "b8U1olQWBxGa"
      },
      "id": "b8U1olQWBxGa"
    },
    {
      "cell_type": "markdown",
      "source": [
        "#### **Criando e tratando variáveis categóricas**\n"
      ],
      "metadata": {
        "id": "uNxPX7NAB3yi"
      },
      "id": "uNxPX7NAB3yi"
    },
    {
      "cell_type": "code",
      "source": [
        "df.sports = df.sports.str.replace(' ', '') # retirar espaçamento entre sports\n",
        "df.sports.str.get_dummies(sep = ',') # criar variáveis dummies para cada esporte"
      ],
      "metadata": {
        "id": "ojDvMo1aB_Ye"
      },
      "id": "ojDvMo1aB_Ye",
      "execution_count": null,
      "outputs": []
    },
    {
      "cell_type": "markdown",
      "source": [
        "Adicionando a tabela gerada anteriormente ao DataFrame:"
      ],
      "metadata": {
        "id": "6V7_tZOXCLtS"
      },
      "id": "6V7_tZOXCLtS"
    },
    {
      "cell_type": "code",
      "source": [
        "df = pd.concat([df, df.sports.str.get_dummies(sep = ',')], axis = 1) # adicionar a tabela gerada anteriormente ao dataframe\n"
      ],
      "metadata": {
        "id": "SWhWiBsUCEje"
      },
      "id": "SWhWiBsUCEje",
      "execution_count": null,
      "outputs": []
    },
    {
      "cell_type": "markdown",
      "source": [
        "Substituindo 1 e 0 por yes e no:"
      ],
      "metadata": {
        "id": "5VMjNStHCRHW"
      },
      "id": "5VMjNStHCRHW"
    },
    {
      "cell_type": "code",
      "source": [
        "# substituir 1 e 0 por yes e no\n",
        "for i in ['Boxing', 'Judo', 'Karate', 'Kick-Boxing', 'MMA']:\n",
        "    df[i] = np.where(df[i] == 1, 'Yes', 'No')"
      ],
      "metadata": {
        "id": "k2HCRSTECbZM"
      },
      "id": "k2HCRSTECbZM",
      "execution_count": null,
      "outputs": []
    },
    {
      "cell_type": "code",
      "source": [
        "# removendo a coluna sports\n",
        "df.drop(columns = 'sports', inplace = True) # remover a coluna de sports"
      ],
      "metadata": {
        "id": "HMcV3aEjCe3T"
      },
      "id": "HMcV3aEjCe3T",
      "execution_count": null,
      "outputs": []
    },
    {
      "cell_type": "code",
      "source": [
        "df"
      ],
      "metadata": {
        "id": "tri1d2o0CIlS"
      },
      "id": "tri1d2o0CIlS",
      "execution_count": null,
      "outputs": []
    },
    {
      "cell_type": "markdown",
      "source": [
        "Ajustando os rótulos das categorias:"
      ],
      "metadata": {
        "id": "46h23fAfDDcb"
      },
      "id": "46h23fAfDDcb"
    },
    {
      "cell_type": "code",
      "source": [
        "df['age_cat'] = pd.cut(df.age, bins = [18, 25, 28, 30, 33, 35, 60], labels = ['18-25', '26-28', '29-30', '31-33', '34-35', '36-60'], include_lowest = True)\n",
        "df['height_cat'] = pd.cut(df.height, bins = [150, 165, 170, 175, 180, 185, 205], labels = ['150-165', '166-170', '171-175', '176-180', '181-185', '186-205'], include_lowest = True)\n",
        "df['weight_cat'] = pd.cut(df.weight, bins = [65, 80, 85, 90, 95, 100, 125], labels = ['65-80', '81-85', '86-90', '91-95', '96-100', '101-125'], include_lowest = True)\n",
        "df['hours_per_day_cat'] = pd.cut(df.hours_per_day, bins = [0, 2, 4, 8], labels = ['0-2', '3-4', '5-8'], include_lowest = True)\n",
        "df['strength_cat'] = pd.cut(df.strength, bins = [0, 4, 6, 10], labels = ['0-4', '5-6', '7-10'], include_lowest = True)\n",
        "df['agility_cat'] = pd.cut(df.agility, bins = [0, 4, 6, 10], labels = ['0-4', '5-6', '7-10'], include_lowest = True)\n",
        "df['mental_cat'] = pd.cut(df.mental, bins = [0, 4, 6, 10], labels = ['0-4', '5-6', '7-10'], include_lowest = True)\n",
        "df['rank_cat'] = np.where(df['rank'] <= 100, '0-100',\n",
        "                         np.where(df['rank'] <= 200, '101-200',\n",
        "                                 np.where(df['rank'] <= 300, '201-300',\n",
        "                                         np.where(df['rank'] <= 400, '301-400', '401-500'))))"
      ],
      "metadata": {
        "id": "7hn7pkuIDIXM"
      },
      "id": "7hn7pkuIDIXM",
      "execution_count": null,
      "outputs": []
    },
    {
      "cell_type": "markdown",
      "source": [
        "#### **Teste Qui-Quadrado**\n",
        "\n",
        "Para realizar o teste Qui-Quadrado, precisamos escolher as variáveis que iremos testar:"
      ],
      "metadata": {
        "id": "amiOAKcHDNl6"
      },
      "id": "amiOAKcHDNl6"
    },
    {
      "cell_type": "code",
      "source": [
        "df.columns"
      ],
      "metadata": {
        "id": "jWX34z8CDQHG"
      },
      "id": "jWX34z8CDQHG",
      "execution_count": null,
      "outputs": []
    },
    {
      "cell_type": "markdown",
      "source": [
        "Vamos escolher duas variáveis:"
      ],
      "metadata": {
        "id": "0xjsiT_DDWWE"
      },
      "id": "0xjsiT_DDWWE"
    },
    {
      "cell_type": "code",
      "source": [
        "var1 = 'rank_cat'\n",
        "var2 = 'gender'"
      ],
      "metadata": {
        "id": "3LohaBWcDUrC"
      },
      "id": "3LohaBWcDUrC",
      "execution_count": null,
      "outputs": []
    },
    {
      "cell_type": "markdown",
      "source": [
        "Também é necessário construir uma tabela em que todos os valores da variável 1 sejam linhas e que todos os valores da variável 2 sejam colunas:"
      ],
      "metadata": {
        "id": "v0pCLE6bDZ_p"
      },
      "id": "v0pCLE6bDZ_p"
    },
    {
      "cell_type": "code",
      "source": [
        "chi = pd.crosstab(df[var1], df[var2])\n",
        "chi"
      ],
      "metadata": {
        "id": "68Y2zYM7D263"
      },
      "id": "68Y2zYM7D263",
      "execution_count": null,
      "outputs": []
    },
    {
      "cell_type": "markdown",
      "source": [
        "## **Sugestões ao instrutor e aos alunos**\n",
        "\n",
        "Caso seja viável no tempo de aula, o instrutor por abordar mais exemplos ou deter-se melhor sobre os casos tratados aqui.\n",
        "\n",
        "Aos alunos, cabe lembrar que as mesmas análises feitas aqui podem ser aplicadas a outros datasets. Vale ler mais a respeito destas distribuições e procurar dados que possuem estas distribuições para analisá-los."
      ],
      "metadata": {
        "id": "2klthBLJGiMa"
      },
      "id": "2klthBLJGiMa"
    },
    {
      "cell_type": "markdown",
      "source": [
        "---\n",
        "\n",
        "Notebook utilizado para fins educacionais da **Awari**.\n",
        "\n",
        "**© AWARI. Todos os direitos reservados.**"
      ],
      "metadata": {
        "id": "KhFtIbQ591G2"
      },
      "id": "KhFtIbQ591G2"
    }
  ],
  "metadata": {
    "kernelspec": {
      "display_name": "Python 3 (ipykernel)",
      "language": "python",
      "name": "python3"
    },
    "language_info": {
      "codemirror_mode": {
        "name": "ipython",
        "version": 3
      },
      "file_extension": ".py",
      "mimetype": "text/x-python",
      "name": "python",
      "nbconvert_exporter": "python",
      "pygments_lexer": "ipython3",
      "version": "3.9.7"
    },
    "colab": {
      "provenance": []
    }
  },
  "nbformat": 4,
  "nbformat_minor": 5
}