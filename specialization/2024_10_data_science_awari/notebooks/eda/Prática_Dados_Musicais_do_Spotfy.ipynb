{
  "cells": [
    {
      "cell_type": "markdown",
      "source": [
        "![header-notebooks.png](data:image/png;base64,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)\n",
        "\n",
        "Prática da **Aula 08: Estatística Descritiva II**, do curso de **Data Science** da **[Awari](https://awari.com.br/)**. Para utilizá-la, vá no menu \"Arquivo\" e, em seguida, na opção \"Salvar uma cópia no Drive\". Isto criará uma cópia deste notebook em uma pasta chamada \"Colab Notebooks\", no seu Google Drive pessoal. Use a cópia para criar novas células de código ou executar as células desta prática.\n",
        "\n",
        "---"
      ],
      "metadata": {
        "id": "jxppVUVsTlPI"
      }
    },
    {
      "cell_type": "markdown",
      "metadata": {
        "id": "9inB0Nqb3t4E"
      },
      "source": [
        "# **Dados Musicais do Spotfy**"
      ]
    },
    {
      "cell_type": "markdown",
      "metadata": {
        "id": "_o4Gvc8r3t4F"
      },
      "source": [
        "## **Objetivo**\n",
        "\n",
        "Nesta prática, vamos analisar uma base de dados de músicas do Spotify. Tentaremos descobrir diversos *insights* relacionados aos estilos, duração e outras características das músicas do *app*."
      ]
    },
    {
      "cell_type": "markdown",
      "source": [
        "## **Prática**"
      ],
      "metadata": {
        "id": "inLZaXUjWs-6"
      }
    },
    {
      "cell_type": "markdown",
      "metadata": {
        "id": "xSfUm17M3t4G"
      },
      "source": [
        "### **Entendendo as features ou variáveis**\n",
        "\n",
        "Aqui, temos as variáveis ou *features* que estão em nossa base de dados. As descrições estão em inglês, mas são facilmente traduzíveis.\n",
        "\n",
        "**Feature Explanations**\n",
        "\n",
        "Dataset contains 19.000 songs and has 15 features like duration ms, key, audio mode, acousticness, danceability, energy and so on.\n",
        "\n",
        "* **duration_ms**: the duration of the track in milliseconds.\n",
        "\n",
        "* **key**: The estimated overall key of the track. Integers map to pitches using standard Pitch Class notation . E.g. 0 = C, 1 = C♯/D♭, 2 = D, and so on. If no key was detected, the value is -1.\n",
        "\n",
        "* **audio_mode**: mode indicates the modality (major or minor) of a track, the type of scale from which its melodic content is derived. Major is represented by 1 and minor is 0.\n",
        "\n",
        "* **time_signature**: an estimated overall time signature of a track. The time signature (meter) is a notational convention to specify how many beats are in each bar (or measure).\n",
        "\n",
        "* **acousticness**: a confidence measure from 0.0 to 1.0 of whether the track is acoustic. 1.0 represents high confidence the track is acoustic.\n",
        "\n",
        "* **danceability**: danceability describes how suitable a track is for dancing based on a combination of musical elements including tempo, rhythm stability, beat strength, and overall regularity. A value of 0.0 is least danceable and 1.0 is most danceable.\n",
        "\n",
        "* **energy**: energy is a measure from 0.0 to 1.0 and represents a perceptual measure of intensity and activity. Typically, energetic tracks feel fast, loud, and noisy. For example, death metal has high energy, while a Bach prelude scores low on the scale.\n",
        "\n",
        "* **instrumentalness**: predicts whether a track contains no vocals. “Ooh” and “aah” sounds are treated as instrumental in this context. Rap or spoken word tracks are clearly “vocal”. The closer the instrumentalness value is to 1.0, the greater likelihood the track contains no vocal content. Values above 0.5 are intended to represent instrumental tracks, but confidence is higher as the value approaches 1.0.\n",
        "\n",
        "* **loudness**: the overall loudness of a track in decibels (dB). Loudness values are averaged across the entire track and are useful for comparing relative loudness of tracks. Loudness is the quality of a sound that is the primary psychological correlate of physical strength (amplitude). Values typical range between -60 and 0 db.\n",
        "\n",
        "* **speechiness**: speechiness detects the presence of spoken words in a track. The more exclusively speech-like the recording (e.g. talk show, audio book, poetry), the closer to 1.0 the attribute value. Values above 0.66 describe tracks that are probably made entirely of spoken words. Values between 0.33 and 0.66 describe tracks that may contain both music and speech, either in sections or layered, including such cases as rap music.Values below 0.33 most likely represent music and other non-speech-like tracks.\n",
        "\n",
        "* **audio_valence**: a measure from 0.0 to 1.0 describing the musical positiveness conveyed by a track. Tracks with high valence sound more positive (e.g. happy, cheerful, euphoric), while tracks with low valence sound more negative (e.g. sad, depressed, angry).\n",
        "\n",
        "* **tempo**: the overall estimated tempo of a track in beats per minute (BPM). In musical terminology, tempo is the speed or pace of a given piece and derives directly from the average beat duration.\n",
        "\n",
        "* **song_popularity**: song ratings of spotify audience.\n",
        "\n",
        "* **liveness**: detects the presence of an audience in the recording. Higher liveness values represent an increased probability that the track was performed live."
      ]
    },
    {
      "cell_type": "markdown",
      "metadata": {
        "id": "IGeaSIoD3t4H"
      },
      "source": [
        "### **Importando bibliotecas e o dataset**"
      ]
    },
    {
      "cell_type": "code",
      "execution_count": null,
      "metadata": {
        "id": "u-iNRrVI3t4I"
      },
      "outputs": [],
      "source": [
        "import pandas as pd\n",
        "import matplotlib.pyplot as plt\n",
        "import seaborn as sns\n",
        "import numpy as np\n",
        "\n",
        "%matplotlib inline\n",
        "sns.set_style('darkgrid')"
      ]
    },
    {
      "cell_type": "code",
      "execution_count": null,
      "metadata": {
        "id": "kwJVkBpa3t4J"
      },
      "outputs": [],
      "source": [
        "df = pd.read_csv('https://raw.githubusercontent.com/persival-iania/datasets/main/spotify.csv', index_col=0)\n",
        "df.set_index('song_name', inplace=True)"
      ]
    },
    {
      "cell_type": "markdown",
      "source": [
        "Também temos a base de dados neste arquivo [spotify.csv](https://drive.google.com/file/d/1ChbSeG9TwnVKM3Snq6Ut8l2acO5g6kI_/view?usp=share_link), caso você queira subi-la para seu Google Drive e importá-la via Google Drive para a análise."
      ],
      "metadata": {
        "id": "dtyl_rRwWXtK"
      }
    },
    {
      "cell_type": "markdown",
      "metadata": {
        "id": "mgzs5b143t4J"
      },
      "source": [
        "### **Análise inicial do dataset**"
      ]
    },
    {
      "cell_type": "code",
      "execution_count": null,
      "metadata": {
        "id": "7hdemuXS3t4J"
      },
      "outputs": [],
      "source": [
        "df.head(10)"
      ]
    },
    {
      "cell_type": "code",
      "execution_count": null,
      "metadata": {
        "id": "VW2Sookk3t4K"
      },
      "outputs": [],
      "source": [
        "df.info()"
      ]
    },
    {
      "cell_type": "markdown",
      "metadata": {
        "id": "5TVf48l13t4L"
      },
      "source": [
        "Apesar de as *features* serem apresentadas como sendo de natureza numérica, percebemos que quase todas são definidas como strings(`object`), com exceção de *audio_valence* e *key*.\n",
        "\n",
        "Também notamos como algumas features apresentam unidades erradas (*acousticness* e *danceability*)."
      ]
    },
    {
      "cell_type": "markdown",
      "metadata": {
        "id": "EdsSvQV-3t4L"
      },
      "source": [
        "### **Limpeza de dados**"
      ]
    },
    {
      "cell_type": "markdown",
      "metadata": {
        "id": "gANlCqxV3t4L"
      },
      "source": [
        "Precisamos transformar os dados do tipo `object` em dados numéricos ou categóricos de acordo com sua funcionalidade.\n",
        "\n",
        "Para isso, precisamos eliminar os dados faltantes. Antes de mudarmos os dados para numéricos, também precisamos garantir que estão todos limpos de caracteres que não representem números."
      ]
    },
    {
      "cell_type": "code",
      "execution_count": null,
      "metadata": {
        "id": "DNzzOUBf3t4M"
      },
      "outputs": [],
      "source": [
        "df['song_popularity'].replace('nao_sei', None, inplace=True)\n",
        "df['song_popularity'] = df['song_popularity'].astype('int')"
      ]
    },
    {
      "cell_type": "code",
      "execution_count": null,
      "metadata": {
        "id": "4gTx46LQ3t4M"
      },
      "outputs": [],
      "source": [
        "df['song_duration_ms'].replace('nao_sei', None, inplace=True)\n",
        "df['song_duration_ms'] = df['song_duration_ms'].str.strip('kg')\n",
        "df['song_duration_ms'] = df['song_duration_ms'].astype('float')"
      ]
    },
    {
      "cell_type": "code",
      "execution_count": null,
      "metadata": {
        "id": "ewM89g9-3t4M"
      },
      "outputs": [],
      "source": [
        "df['acousticness'].replace('nao_sei', None, inplace=True)\n",
        "df['acousticness'] = df['acousticness'].str.strip('kgmol/L')\n",
        "df['acousticness'] = df['acousticness'].astype('float')"
      ]
    },
    {
      "cell_type": "code",
      "execution_count": null,
      "metadata": {
        "id": "IZjLHmoG3t4N"
      },
      "outputs": [],
      "source": [
        "df['danceability'].replace('nao_sei', None, inplace=True)\n",
        "df['danceability'] = df['danceability'].str.strip('kgmol/L')\n",
        "df['danceability'] = df['danceability'].astype('float')"
      ]
    },
    {
      "cell_type": "code",
      "execution_count": null,
      "metadata": {
        "id": "CFC2_zqS3t4N"
      },
      "outputs": [],
      "source": [
        "df['energy'].replace('nao_sei', None, inplace=True)\n",
        "df['energy'] = df['energy'].astype('float')"
      ]
    },
    {
      "cell_type": "code",
      "execution_count": null,
      "metadata": {
        "id": "gMU3XwSr3t4N"
      },
      "outputs": [],
      "source": [
        "df['instrumentalness'].replace('nao_sei', None, inplace=True)\n",
        "df['instrumentalness'] = df['instrumentalness'].str.strip('kgmol/L')\n",
        "df['instrumentalness'] = df['instrumentalness'].astype('float')"
      ]
    },
    {
      "cell_type": "code",
      "execution_count": null,
      "metadata": {
        "id": "Z83oiBKT3t4N"
      },
      "outputs": [],
      "source": [
        "df['liveness'].replace('nao_sei', None, inplace=True)\n",
        "df['liveness'] = df['liveness'].astype('float')"
      ]
    },
    {
      "cell_type": "code",
      "execution_count": null,
      "metadata": {
        "id": "wHOeoafd3t4O"
      },
      "outputs": [],
      "source": [
        "df['loudness'].replace('nao_sei', None, inplace=True)\n",
        "df['loudness'] = df['loudness'].astype('float')"
      ]
    },
    {
      "cell_type": "code",
      "execution_count": null,
      "metadata": {
        "id": "4TdbFCr63t4O"
      },
      "outputs": [],
      "source": [
        "df['audio_mode'].replace('nao_sei', None, inplace=True)\n",
        "df.dropna()\n",
        "df['audio_mode'] = df['audio_mode'].astype('object')"
      ]
    },
    {
      "cell_type": "code",
      "execution_count": null,
      "metadata": {
        "id": "ER9iXaMF3t4O"
      },
      "outputs": [],
      "source": [
        "df['speechiness'].replace('nao_sei', None, inplace=True)\n",
        "df['speechiness'] = df['speechiness'].str.strip('nao_sei')\n",
        "df['speechiness'] = df['speechiness'].astype('float')"
      ]
    },
    {
      "cell_type": "code",
      "execution_count": null,
      "metadata": {
        "id": "NCkVl0gI3t4P"
      },
      "outputs": [],
      "source": [
        "df['tempo'].replace('nao_sei', None, inplace=True)\n",
        "df['tempo'] = df['tempo'].astype('float')"
      ]
    },
    {
      "cell_type": "code",
      "execution_count": null,
      "metadata": {
        "id": "gxUnHwbc3t4P"
      },
      "outputs": [],
      "source": [
        "df['time_signature'].replace('nao_sei', None, inplace=True)\n",
        "df['time_signature'] = df['time_signature'].astype('float')"
      ]
    },
    {
      "cell_type": "code",
      "execution_count": null,
      "metadata": {
        "id": "YdSyZ7aq3t4P"
      },
      "outputs": [],
      "source": [
        "df['key'].replace('nao_sei', None, inplace=True)"
      ]
    },
    {
      "cell_type": "code",
      "execution_count": null,
      "metadata": {
        "id": "Q12iOPHN3t4P"
      },
      "outputs": [],
      "source": [
        "df.info()"
      ]
    },
    {
      "cell_type": "code",
      "execution_count": null,
      "metadata": {
        "id": "23Kctq8i3t4P"
      },
      "outputs": [],
      "source": [
        "df.dropna(inplace=True)\n",
        "df.isna().any()"
      ]
    },
    {
      "cell_type": "markdown",
      "metadata": {
        "id": "Jk56JOkW3t4Q"
      },
      "source": [
        "### **Análise de dados categóricos**\n",
        "\n",
        "A categoria `audio_mode` descreve a escala da melodia da música, em que 1 representa *major* e 0 *minor*."
      ]
    },
    {
      "cell_type": "code",
      "execution_count": null,
      "metadata": {
        "id": "LJyJ5YCE3t4Q"
      },
      "outputs": [],
      "source": [
        "df.audio_mode.describe()"
      ]
    },
    {
      "cell_type": "code",
      "execution_count": null,
      "metadata": {
        "id": "QeGYx-8T3t4Q"
      },
      "outputs": [],
      "source": [
        "df['audio_mode'].replace('0', 'minor', inplace=True) #substitui 0 por 'minor'\n",
        "df['audio_mode'].replace('1', 'major', inplace=True) #substitui 1 por 'major'"
      ]
    },
    {
      "cell_type": "code",
      "execution_count": null,
      "metadata": {
        "id": "3dq7N7D23t4R"
      },
      "outputs": [],
      "source": [
        "plt.figure(figsize=(8,6))\n",
        "sns.catplot('audio_mode', data=df, kind='count')\n",
        "plt.show()"
      ]
    },
    {
      "cell_type": "markdown",
      "metadata": {
        "id": "d2NTk-Lf3t4R"
      },
      "source": [
        "Vemos como a maioria das músicas no dataset estão na escala *major*.\n",
        "\n",
        "A teoria nos diz que, em geral, músicas nessa escala soam mais \"felizes\" e músicas em escala 'minor' soam mais \"tristes\".\n",
        "\n",
        "No nosso dataset, a *feature* que define essa característica é `audio_valence`. Por meio dela, podemos averiguar a validade da teoria."
      ]
    },
    {
      "cell_type": "code",
      "execution_count": null,
      "metadata": {
        "id": "sDnK9CPK3t4R"
      },
      "outputs": [],
      "source": [
        "plt.figure(figsize=(8,6))\n",
        "sns.catplot('audio_valence', 'audio_mode', data=df, kind='boxen')\n",
        "plt.show()"
      ]
    },
    {
      "cell_type": "markdown",
      "metadata": {
        "id": "VRIVqjKW3t4S"
      },
      "source": [
        "Apesar do que a teoria nos diz, a escala da música não parece afetar de forma significativa sua valência. O que o gráfico acima nos mostra é que há uma distribuição bem uniforme da valência das entradas quanto a sua escala."
      ]
    },
    {
      "cell_type": "code",
      "execution_count": null,
      "metadata": {
        "id": "YyJkbHBS3t4S"
      },
      "outputs": [],
      "source": [
        "plt.figure(figsize=(8,6))\n",
        "minor = df[df['audio_mode'] == 'minor']\n",
        "major = df[df['audio_mode'] == 'major']\n",
        "\n",
        "sns.distplot(minor['song_popularity'], hist=False, label='minor')\n",
        "sns.distplot(major['song_popularity'], hist=False, label='major')\n",
        "\n",
        "plt.legend()\n",
        "plt.show()"
      ]
    },
    {
      "cell_type": "markdown",
      "metadata": {
        "id": "cKwx4Muk3t4S"
      },
      "source": [
        "Também percebemos que não parece haver uma clara preferência do público quanto a escala de uma música. Tanto a escala maior (*major*) quanto a menor (*minor*) parecem ser igualmente populares."
      ]
    },
    {
      "cell_type": "markdown",
      "metadata": {
        "id": "D02fXPPh3t4S"
      },
      "source": [
        "### **Análise de dados numéricos**"
      ]
    },
    {
      "cell_type": "markdown",
      "metadata": {
        "id": "M_dMLM4C3t4T"
      },
      "source": [
        "Para analisarmos os dados numéricos, começamos com o comportamento geral das *features* e uma visualização da correlação entre os dados.\n",
        "\n",
        "Dessa forma, temos um norte melhor para onde devemos concentrar nossa análise."
      ]
    },
    {
      "cell_type": "code",
      "execution_count": null,
      "metadata": {
        "id": "rrEx8sNx3t4T"
      },
      "outputs": [],
      "source": [
        "df.describe().T"
      ]
    },
    {
      "cell_type": "markdown",
      "metadata": {
        "id": "iRAy3NHS3t4T"
      },
      "source": [
        "A partir da tabela, percebemos um comportamento fora do descrito para a feature `song_duration_ms`.\n",
        "\n",
        "Essa feature, que representa o tempo de duração das músicas em *ms*, deveria ter somente valores positivos.\n",
        "\n",
        "No entanto, parecem ocorrer valores negativos que vamos desconsideraremo para a nossa análise."
      ]
    },
    {
      "cell_type": "code",
      "execution_count": null,
      "metadata": {
        "id": "u7tEtUnD3t4T"
      },
      "outputs": [],
      "source": [
        "duracao_negativa = df[df['song_duration_ms'] < 0]\n",
        "\n",
        "duracao_negativa['song_duration_ms'].describe()"
      ]
    },
    {
      "cell_type": "code",
      "execution_count": null,
      "metadata": {
        "id": "oDESJe003t4U"
      },
      "outputs": [],
      "source": [
        "plt.figure(figsize=(8,6))\n",
        "sns.distplot(df['song_duration_ms'])\n",
        "plt.show()"
      ]
    },
    {
      "cell_type": "markdown",
      "metadata": {
        "id": "GZUgwtyH3t4U"
      },
      "source": [
        "Nossa suspeita é confirmada pela visualização acima. Há valores válidos maiores que 0 em um pico e outro abaixo de 0, a ser desconsiderado.\n",
        "\n",
        "Escolhemos desconsiderar os valores negativos uma vez que, pela descrição, percebemos que são poucos os dados que saem do padrão."
      ]
    },
    {
      "cell_type": "code",
      "execution_count": null,
      "metadata": {
        "id": "16BmCSsz3t4U"
      },
      "outputs": [],
      "source": [
        "# Retirando durações negativas do dataset\n",
        "df = df[df['song_duration_ms'] >= 0]\n",
        "\n",
        "df.song_duration_ms.describe().T"
      ]
    },
    {
      "cell_type": "code",
      "execution_count": null,
      "metadata": {
        "id": "OXLEmFW63t4U"
      },
      "outputs": [],
      "source": [
        "plt.figure(figsize=(8,6))\n",
        "sns.distplot(df.song_duration_ms)\n",
        "plt.show()"
      ]
    },
    {
      "cell_type": "code",
      "execution_count": null,
      "metadata": {
        "id": "hEaISK-s3t4U"
      },
      "outputs": [],
      "source": [
        "outliers_song_duration = df[df['song_duration_ms'] >= 600000]\n",
        "\n",
        "outliers_song_duration['song_duration_ms'].describe()"
      ]
    },
    {
      "cell_type": "markdown",
      "metadata": {
        "id": "jQJo8seb3t4V"
      },
      "source": [
        "Também percebemos uma pequena discrepância na feature `loudness`. Seus valores deveriam variar entre -60dB e 0dB, no entanto, observamos valores maiores que zero."
      ]
    },
    {
      "cell_type": "code",
      "execution_count": null,
      "metadata": {
        "id": "mIIxJGVP3t4V"
      },
      "outputs": [],
      "source": [
        "df = df[df['loudness'] <= 0]\n",
        "df.loudness.describe()"
      ]
    },
    {
      "cell_type": "markdown",
      "metadata": {
        "id": "yA-t3Gxe3t4V"
      },
      "source": [
        "Mesmo com todos os dados em um intervalo regular, ainda temos dificuldade de visualizar a distribuição devido à presença de *outliers*.\n",
        "\n",
        "Por isso, para a análise, consideraremos apenas as músicas com duração menor que 600000ms(10min).\n",
        "\n",
        "Essa escolha não deve ter grande efeito na análise uma vez que existem poucas entradas que apresentam duração maior que 10min (22 músicas)."
      ]
    },
    {
      "cell_type": "code",
      "execution_count": null,
      "metadata": {
        "id": "6y_oqesV3t4V"
      },
      "outputs": [],
      "source": [
        "plt.figure(figsize=(13,7))\n",
        "sns.heatmap(df.corr(), annot=True, cmap='YlGnBu_r')\n",
        "\n",
        "plt.show()"
      ]
    },
    {
      "cell_type": "markdown",
      "metadata": {
        "id": "-lFuphF73t4W"
      },
      "source": [
        "Do *heatmap* percebemos que a maioria das features são muito fracamente relacionadas. Porém, algumas apresentam fortes correlações. Começaremos nossa análise numérica por essas *features*."
      ]
    },
    {
      "cell_type": "markdown",
      "metadata": {
        "id": "Fh_7TaPQ3t4W"
      },
      "source": [
        "#### **Acousticness**\n",
        "\n",
        "A feature `acousticness` tem forte correlação negativa com `energy` e `loudness`."
      ]
    },
    {
      "cell_type": "code",
      "execution_count": null,
      "metadata": {
        "id": "ZuKdZsa13t4W"
      },
      "outputs": [],
      "source": [
        "df = df.reset_index()\n",
        "sns.jointplot(x='acousticness', y='energy', data=df, kind='reg', xlim=(0,1), ylim=(0,1), scatter_kws={\"s\": 2, 'color': '#eb6b34','alpha':0.5})\n",
        "plt.show()"
      ]
    },
    {
      "cell_type": "code",
      "execution_count": null,
      "metadata": {
        "id": "WavqWGOK3t4W"
      },
      "outputs": [],
      "source": [
        "df.acousticness.describe()"
      ]
    },
    {
      "cell_type": "code",
      "execution_count": null,
      "metadata": {
        "id": "GKe2S3433t4X"
      },
      "outputs": [],
      "source": [
        "df.energy.describe()"
      ]
    },
    {
      "cell_type": "markdown",
      "metadata": {
        "id": "_y0hdAv93t4X"
      },
      "source": [
        "Do gráfico, percebemos algumas coisas.\n",
        "\n",
        "Músicas muito caracteristicamente acústicas tendem a ser avaliadas como de baixa 'energia', pouco ativas ou 'calmas'.\n",
        "\n",
        "Porém, também percebemos que a média de acousticness do nosso dataset é relativamente baixa, ou seja, a maioria das músicas não são consideradas acústicas.\n",
        "\n",
        "Já a distribuição de `energy` é mais homegenea com média mais alta, nos mostrando que há uma maior quantidade de músicas 'agitadas' do que 'calmas'."
      ]
    },
    {
      "cell_type": "code",
      "execution_count": null,
      "metadata": {
        "id": "6xAnUXzT3t4X"
      },
      "outputs": [],
      "source": [
        "sns.jointplot(x='acousticness', y='loudness',data=df, kind='reg', xlim=(0, 1), ylim=(-60,0), scatter_kws={\"s\": 2, 'color': '#eb6b34','alpha':0.5})\n",
        "plt.show()"
      ]
    },
    {
      "cell_type": "code",
      "execution_count": null,
      "metadata": {
        "id": "iyDJJ0mM3t4X"
      },
      "outputs": [],
      "source": [
        "df.loudness.describe()"
      ]
    },
    {
      "cell_type": "markdown",
      "metadata": {
        "id": "-mC8oIF13t4Y"
      },
      "source": [
        "Da mesma forma, há uma correlação negativa de `acousticness` com `loudness`, mesmo que menos intensa em relação à `energy`.\n",
        "\n",
        "No entanto, observamos uma concentração maior na distribuição de `loudness` tendendo a valores mais próximos de 0, ou seja, músicas consideradas menos 'altas'."
      ]
    },
    {
      "cell_type": "markdown",
      "metadata": {
        "id": "t5nre-tp3t4Y"
      },
      "source": [
        "#### **Danceability**\n",
        "\n",
        "Já `danceability` possue relação significativa com `speechiness` e `audio_valence`."
      ]
    },
    {
      "cell_type": "code",
      "execution_count": null,
      "metadata": {
        "id": "VfAxmyqj3t4Y"
      },
      "outputs": [],
      "source": [
        "sns.jointplot(x='speechiness', y='danceability',data=df, kind='reg', xlim=(0, 1), ylim=(0,1), scatter_kws={\"s\": 2, 'color': '#eb6b34','alpha':0.5})\n",
        "plt.show()"
      ]
    },
    {
      "cell_type": "code",
      "execution_count": null,
      "metadata": {
        "id": "BjvF5ZdR3t4Y"
      },
      "outputs": [],
      "source": [
        "df.danceability.describe()"
      ]
    },
    {
      "cell_type": "code",
      "execution_count": null,
      "metadata": {
        "id": "_T2nKb9Q3t4Y"
      },
      "outputs": [],
      "source": [
        "df.speechiness.describe()"
      ]
    },
    {
      "cell_type": "markdown",
      "metadata": {
        "id": "49LZFuPD3t4Z"
      },
      "source": [
        "`speechiness` é a feature que define qual a probabilidade de uma música apresentar discurso falado (em oposição a discurso cantado).\n",
        "Sabendo disso, podemos observar que as músicas estão muito concentradas em uma região de baixa `speechiness`. Isso significa que a maior parte do nosso dataset representa faixas que possuem pouco ou nenhum discurso falado.\n",
        "\n",
        "Também percebemos como a `danceability` parece aumentar com a `speechiness`. Intuitivamente, essa tendêcia vai contra o senso comum. Discursos, podcasts e leituras de poesia não são normalmente consideradas como 'dançáveis'. No entando, analisando a forma como `danceability` é calculdada no dataset, percebe-se uma relação clara com ritmo na forma do tempo, regularidade e estabilidade do próprio ritmo.\n",
        "\n",
        "Essa relação inesperada pode ser causa do baixo número de entradas com alta `speechiness` ou a forma como `danceability` é calculada, uma vez que já foi [estudada](https://journals.plos.org/plosone/article?id=10.1371/journal.pone.0071945) a maior correlação de movimento com música do que com discurso falado."
      ]
    },
    {
      "cell_type": "code",
      "execution_count": null,
      "metadata": {
        "id": "J0bhSI2P3t4Z"
      },
      "outputs": [],
      "source": [
        "sns.jointplot(x='audio_valence', y='danceability',data=df, kind='reg', xlim=(0, 1), ylim=(0,1), scatter_kws={\"s\": 2, 'color': '#eb6b34','alpha':0.5})\n",
        "plt.show()"
      ]
    },
    {
      "cell_type": "code",
      "execution_count": null,
      "metadata": {
        "id": "T-ZEmhnH3t4Z"
      },
      "outputs": [],
      "source": [
        "df.audio_valence.describe()"
      ]
    },
    {
      "cell_type": "markdown",
      "metadata": {
        "id": "BJQmCH1P3t4Z"
      },
      "source": [
        "Como é de se esperar, o quanto uma música é apropriada para dançar aumenta com o quão \"feliz\" ela é, como medido pela `audio_valence`."
      ]
    },
    {
      "cell_type": "markdown",
      "metadata": {
        "id": "w42435JZ3t4a"
      },
      "source": [
        "#### **Energy**\n",
        "\n",
        "Já vimos a relação de `energy` com `acousticness`, mas tambem percebemos forte correlação de `energy` com `loudness` e `audio_valence`."
      ]
    },
    {
      "cell_type": "code",
      "execution_count": null,
      "metadata": {
        "id": "H3SnJ6xP3t4a"
      },
      "outputs": [],
      "source": [
        "sns.jointplot(x='audio_valence', y='energy',data=df, kind='reg', xlim=(0, 1), ylim=(0,1), scatter_kws={\"s\": 2, 'color': '#eb6b34','alpha':0.5})\n",
        "plt.show()"
      ]
    },
    {
      "cell_type": "code",
      "execution_count": null,
      "metadata": {
        "id": "Orq51Oo63t4a"
      },
      "outputs": [],
      "source": [
        "sns.jointplot(x='loudness', y='energy',data=df, kind='reg',ylim=(0,1),xlim=(-40,0), scatter_kws={\"s\": 2, 'color': '#eb6b34','alpha':0.5})\n",
        "plt.show()"
      ]
    },
    {
      "cell_type": "markdown",
      "metadata": {
        "id": "DzkUMa3-3t4a"
      },
      "source": [
        "Com base nos gráficos percebemos que tanto `audio_valence` quanto `loudness` têm grande contribuição no quão energética é uma música.\n",
        "\n",
        "A *feature* `loudness`, em especial, parece ter maior influencia, nos mostrando que músicas mais barulhentas tendem a ser bem mais energéticas."
      ]
    },
    {
      "cell_type": "markdown",
      "metadata": {
        "id": "kI0dP8I-3t4b"
      },
      "source": [
        "### **Conclusões finais**\n",
        "\n",
        "Dadas as *features* apresentadas pelo dataset, percebemos que a grande maioria delas não parecem ser relacionadas.\n",
        "\n",
        "Porém, das poucas que são, observamos uma tendência já prevista pelo senso comum de músicas mais animadas e felizes serem também mais barulhentas, adequadas para dançar, e, em geral, menos calmas."
      ]
    },
    {
      "cell_type": "markdown",
      "source": [
        "---\n",
        "\n",
        "Notebook utilizado para fins educacionais da **Awari**.\n",
        "\n",
        "**© AWARI. Todos os direitos reservados.**"
      ],
      "metadata": {
        "id": "PZhPJ4RbT6_K"
      }
    }
  ],
  "metadata": {
    "language_info": {
      "codemirror_mode": {
        "name": "ipython",
        "version": 3
      },
      "file_extension": ".py",
      "mimetype": "text/x-python",
      "name": "python",
      "nbconvert_exporter": "python",
      "pygments_lexer": "ipython3",
      "version": "3.7.6-final"
    },
    "orig_nbformat": 2,
    "kernelspec": {
      "name": "python3",
      "display_name": "Python 3"
    },
    "colab": {
      "provenance": [],
      "toc_visible": true,
      "collapsed_sections": [
        "Jk56JOkW3t4Q",
        "D02fXPPh3t4S",
        "Fh_7TaPQ3t4W",
        "t5nre-tp3t4Y",
        "w42435JZ3t4a",
        "kI0dP8I-3t4b"
      ]
    }
  },
  "nbformat": 4,
  "nbformat_minor": 0
}