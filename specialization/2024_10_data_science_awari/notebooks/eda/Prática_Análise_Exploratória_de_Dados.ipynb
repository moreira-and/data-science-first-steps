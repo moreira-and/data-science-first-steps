{
  "nbformat": 4,
  "nbformat_minor": 0,
  "metadata": {
    "colab": {
      "provenance": [],
      "collapsed_sections": [
        "OwfoEL4iaSlh",
        "t3G--Mqr5b2t",
        "hkZQZhclXhAS",
        "3W4DVk9FSCed"
      ]
    },
    "kernelspec": {
      "name": "python3",
      "display_name": "Python 3"
    }
  },
  "cells": [
    {
      "cell_type": "markdown",
      "source": [
        "![header-notebooks.png](data:image/png;base64,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)\n",
        "\n",
        "Prática da **Aula 07: Estatística Descritiva I**, do curso de **Data Science** da **[Awari](https://awari.com.br/)**. Para utilizá-la, vá no menu \"Arquivo\" e, em seguida, na opção \"Salvar uma cópia no Drive\". Isto criará uma cópia deste notebook em uma pasta chamada \"Colab Notebooks\", no seu Google Drive pessoal. Use a cópia para criar novas células de código ou executar as células desta prática."
      ],
      "metadata": {
        "id": "NYn0zTKsVqDn"
      }
    },
    {
      "cell_type": "markdown",
      "source": [
        "# **Análise Exploratória de Dados**"
      ],
      "metadata": {
        "id": "E1s_MsFwh9yw"
      }
    },
    {
      "cell_type": "markdown",
      "source": [
        "![titanic.webp](data:image/webp;base64,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)"
      ],
      "metadata": {
        "id": "E-Wz3MplHBba"
      }
    },
    {
      "cell_type": "markdown",
      "metadata": {
        "id": "OwfoEL4iaSlh"
      },
      "source": [
        "## **Apresentação**\n",
        "\n",
        "O **naufrágio do Titanic** — mais precisamente, os dados de tripulantes e passageiros — é um prato cheio para análise estatística e Machine Learning.\n",
        "\n",
        "O conjunto de dados (*dataset*) da tragédia tem até uma competição muito famosa no [Kaggle](https://www.kaggle.com/) (maior comunidade de competições de Data Science do mundo), intitulada [*Titanic - Machine Learning from Disaster*](https://www.kaggle.com/competitions/titanic).\n",
        "\n",
        "Para se ter ideia, analisar tais dados passou a ser considerado uma espécie de **\"Hello, World!\"** (\"Olá, Mundo!\") em Ciência de Dados — se você não sabe, a expressão [\"Hello, World!\"](https://en.wikipedia.org/wiki/%22Hello,_World!%22_program) costuma ser a primeira coisa que se imprime na tela quando se aprende programação."
      ]
    },
    {
      "cell_type": "markdown",
      "metadata": {
        "id": "t3G--Mqr5b2t"
      },
      "source": [
        "## **Objetivo**\n",
        "\n",
        "Nesta prática de aula, vamos usar o *dataset* do naufrágio do Titanic para demonstrar como é feita uma uma análise de dados, usando **Estatística Descritiva**, do zero.\n"
      ]
    },
    {
      "cell_type": "markdown",
      "source": [
        "### **Perguntas que podemos fazer**\n",
        "\n",
        "A partir da tragédia do Titanic podemos levantar alguns questionamentos e curiosidades que irão direcionar nossas análises:\n",
        "\n",
        "* Quantos passageiros havia no navio?\n",
        "\n",
        "* Quantos eram mulheres e quantos eram homens?\n",
        "\n",
        "* Havia crianças?\n",
        "\n",
        "* Temos como saber de onde partiram?\n",
        "\n",
        "* Em quais classes (divisões do navio) havia mais pessoas?\n",
        "\n",
        "Ao longo do curso, veremos que essas perguntas podem ser estendidas para predizermos (com uso de Machine Learning) qual a probabilidade de uma pessoa sobreviver com base em suas características e status.\n",
        "\n",
        "No [página do Kaggle](https://www.kaggle.com/c/titanic), podemos encontrar a descrição completa do desafio e os conjuntos de dados a serem utilizados, se necessário."
      ],
      "metadata": {
        "id": "hkZQZhclXhAS"
      }
    },
    {
      "cell_type": "markdown",
      "source": [
        "## **Prática**"
      ],
      "metadata": {
        "id": "kqf15HaJ3SEA"
      }
    },
    {
      "cell_type": "markdown",
      "source": [
        "### **Preparativos**\n",
        "\n",
        "Para este exercício, iremos importar as seguintes bibliotecas Python:\n",
        "\n",
        "- *pandas* (para manipular dados);\n",
        "- *matplotlib.pyplot* (para plotar gráficos);\n",
        "- *seaborn*  (que auxilia no trabalho com gráficos)."
      ],
      "metadata": {
        "id": "0x_A-_tmEYFb"
      }
    },
    {
      "cell_type": "code",
      "metadata": {
        "id": "kF084PGALQZB"
      },
      "source": [
        "# Importando bibliotecas\n",
        "import pandas as pd\n",
        "import matplotlib.pyplot as plt\n",
        "%matplotlib inline\n",
        "import seaborn as sns\n",
        "paleta_cores = [\"#34495e\", \"#5497B0\", \"#89B7D0\"] #configura cores dos gráficos\n",
        "sns.set(style = \"dark\", palette = paleta_cores, color_codes = True) # configura outros parâmetros visuais"
      ],
      "execution_count": null,
      "outputs": []
    },
    {
      "cell_type": "markdown",
      "source": [
        "### **Importação dos dados**\n",
        "\n",
        "Os dados necessários para a análise e construção da nossa demonstração foram baixados do Kaggle e estão armazenados no [Github](https://raw.githubusercontent.com/datasciencedojo/datasets/master/titanic.csv) (maior repositório de códigos do mundo) de terceiros.\n",
        "\n",
        "Por meio do Pandas, iremos importar um arquivo CSV (formato simples, que pode até ser gerado via Excel) com esses dados"
      ],
      "metadata": {
        "id": "MWQcA7GUE7eK"
      }
    },
    {
      "cell_type": "code",
      "metadata": {
        "id": "UrJFl_XEmsct"
      },
      "source": [
        "# Importando o arquivo CSV\n",
        "arquivo = \"https://raw.githubusercontent.com/datasciencedojo/datasets/master/titanic.csv\""
      ],
      "execution_count": null,
      "outputs": []
    },
    {
      "cell_type": "markdown",
      "source": [
        "Vamos usar o **Pandas** para carregar o CSV em um DataFrame (algo similar a uma \"tabela\"), para podermos manipulá-los:"
      ],
      "metadata": {
        "id": "HFMKx2TlFJR_"
      }
    },
    {
      "cell_type": "code",
      "source": [
        "# Dados carregados em memória como DataFrame\n",
        "df = pd.read_csv(arquivo)"
      ],
      "metadata": {
        "id": "FRTdWu1SKjbF"
      },
      "execution_count": null,
      "outputs": []
    },
    {
      "cell_type": "markdown",
      "source": [
        "Vamos visualizar os dados carregados:"
      ],
      "metadata": {
        "id": "6bm9SJxIFQiy"
      }
    },
    {
      "cell_type": "code",
      "source": [
        "# Exibindo dados carregados no Dataframe\n",
        "df"
      ],
      "metadata": {
        "id": "EyUlq4hGKmFI"
      },
      "execution_count": null,
      "outputs": []
    },
    {
      "cell_type": "markdown",
      "metadata": {
        "id": "OmqbFlgr7M1Y"
      },
      "source": [
        "### **Análise Exploratória**\n",
        "\n",
        "As principais informações e respostas para perguntas iniciais podem ser obtidas através da análise exploratória dos dados.\n",
        "\n",
        "Além disso, como veremos mais à frente no curso, o desempenho dos modelos de Machine Learning dependem diretamente desta etapa do projeto.\n",
        "\n",
        "Usando Pandas, poderemos importar e visualizar os conjuntos de dados:"
      ]
    },
    {
      "cell_type": "code",
      "metadata": {
        "id": "OK55m33lnM8s"
      },
      "source": [
        "# Visualização das 10 primeiras linhas\n",
        "\n",
        "df.head(10)"
      ],
      "execution_count": null,
      "outputs": []
    },
    {
      "cell_type": "markdown",
      "metadata": {
        "id": "DNvuwvAU7ZUy"
      },
      "source": [
        "### **Compreendendo as variáveis**\n",
        "\n",
        "Para acompreender as variáveis do conjunto de dados, podemos contar com o auxílio de um dicionário disponibilizado junto do dataset, no Kaggle:\n",
        "\n",
        "* **PassengerID:** Número de identificação do passageiro\n",
        "* **Survived:** Informa se o passageiro sobreviveu ao naufrágio\n",
        " * 0 = não\n",
        " * 1 = sim\n",
        "* **PCclass:** Classe do bilhete\n",
        " * 1 = 1ª classe\n",
        " * 2 = 2ª classe\n",
        " * 3 = 3ª classe\n",
        "* **Name:** Nome do passageiro\n",
        "* **Sex:** Sexo do passageiro\n",
        "* **Age:** Idade do passageiro\n",
        "* **SibSp:** Quantidade de cônjuges e/ou irmãos a bordo\n",
        "* **Parch:** Quantidade de pais e filhos a bordo\n",
        "* **Ticket:** Número da passagem\n",
        "* **Fare:** Preço da passagem\n",
        "* **Cabin:** Número da cabine do passageiro\n",
        "* **Embarked:** Porto de embarque\n",
        " * C = Cherbourg\n",
        " * Q = Queenstown\n",
        " * S = Southampton\n",
        "\n",
        "Conhecendo essas variáveis, podemos começar nossas análises."
      ]
    },
    {
      "cell_type": "markdown",
      "source": [
        "### **Contando entradas por variáveis**\n",
        "\n",
        "Se quiser saber quantas entradas temos para cada uma de nossas variáveis (um outro nome para ela elas é \"atributos\"), podemos fazer:"
      ],
      "metadata": {
        "id": "1QNxwYRieaZ2"
      }
    },
    {
      "cell_type": "code",
      "source": [
        "# A função count() conta as variáveis de um DataFrame\n",
        "df.count()"
      ],
      "metadata": {
        "id": "pM0f-6CILSXL"
      },
      "execution_count": null,
      "outputs": []
    },
    {
      "cell_type": "markdown",
      "source": [
        "Podemos observar acima que temos todas variáveis preenchidas para **891 linhas** do DataFrame e que algumas não possuem todas as amostras (Age, Cabin e Embarket).\n",
        "\n",
        "Rodando outro método de Pandas, podemos ver os tipos dos nossos dados:"
      ],
      "metadata": {
        "id": "R_jXfJV_FZRq"
      }
    },
    {
      "cell_type": "code",
      "metadata": {
        "id": "yD-oZPpXuO60"
      },
      "source": [
        "# A função dtypes mostra os tipos de variáveis\n",
        "df.dtypes"
      ],
      "execution_count": null,
      "outputs": []
    },
    {
      "cell_type": "markdown",
      "metadata": {
        "id": "B-3-a_jpwhmP"
      },
      "source": [
        "O conjunto de dados contém **7 variáveis numéricas** (dos tipos *int64* e *float64*) e **5 do tipo *object*** (*strings*).\n",
        "\n",
        "Apenas três variáveis possuem valores ausentes:\n",
        "\n",
        "* **Cabin:** 687 entradas ausentes;\n",
        "* **Age:** 177 entradas ausentes; e\n",
        "* **Embarked:** 2 entradas ausentes.\n",
        "\n",
        "Entre essas variáveis, a que pode apresentar mais problemas ao implementarmos um modelo de Machine Learning, por exemplo, é `Age`, uma vez que corresponde a características diretas dos passageiros, sendo um dado fundamental durante a análise exploratória.\n",
        "\n",
        "Vamos ver que poderemos tratar essesou remover  valores ausentes mais adiante no curso."
      ]
    },
    {
      "cell_type": "markdown",
      "source": [
        "### **Analisando medidas estatísticas**"
      ],
      "metadata": {
        "id": "bzSiMmWII-OW"
      }
    },
    {
      "cell_type": "markdown",
      "source": [
        "#### **Valores médios, máximos e mínimos**\n",
        "\n",
        "Podemos achar a média dos nossos por meio da função *mean()*, para cara uma das variáveis do nosso DataFrame:"
      ],
      "metadata": {
        "id": "SNbfH-ScJDik"
      }
    },
    {
      "cell_type": "code",
      "source": [
        "# média de idade dos passageiros\n",
        "df['Age'].mean()"
      ],
      "metadata": {
        "id": "FVkFI6o4KpoM"
      },
      "execution_count": null,
      "outputs": []
    },
    {
      "cell_type": "code",
      "source": [
        "# media do valor da tarifa\n",
        "df['Fare'].mean()"
      ],
      "metadata": {
        "id": "yvLEPsUJK4Sd"
      },
      "execution_count": null,
      "outputs": []
    },
    {
      "cell_type": "code",
      "source": [
        "# idade do passageiro mais velho\n",
        "df['Age'].max()"
      ],
      "metadata": {
        "id": "C9ImiVERLBF_"
      },
      "execution_count": null,
      "outputs": []
    },
    {
      "cell_type": "code",
      "source": [
        "# idade do passageiro mais novo\n",
        "df['Age'].min()"
      ],
      "metadata": {
        "id": "Y5_XhJV2LJ_v"
      },
      "execution_count": null,
      "outputs": []
    },
    {
      "cell_type": "code",
      "source": [
        "# média de pais e filhos a bordo\n",
        "df['Parch'].mean()"
      ],
      "metadata": {
        "id": "xsyIjAcZLV4q"
      },
      "execution_count": null,
      "outputs": []
    },
    {
      "cell_type": "code",
      "source": [
        "# máximo de pais e filhos a bordo\n",
        "df['Parch'].max()"
      ],
      "metadata": {
        "id": "fQWpxZPTLkOn"
      },
      "execution_count": null,
      "outputs": []
    },
    {
      "cell_type": "markdown",
      "source": [
        "Há, ainda, outra medidas estatísticas, como a \"Moda\" (valor mais frequente):"
      ],
      "metadata": {
        "id": "pAqPK6aiLsG9"
      }
    },
    {
      "cell_type": "code",
      "source": [
        "# maior frequência de idade\n",
        "df['Age'].mode()"
      ],
      "metadata": {
        "id": "agIaOVrCL7U6"
      },
      "execution_count": null,
      "outputs": []
    },
    {
      "cell_type": "code",
      "source": [
        "# valor mais frequente da tarifa (ou mais vendido)\n",
        "df['Fare'].mode()"
      ],
      "metadata": {
        "id": "VPHMDNHPMEm6"
      },
      "execution_count": null,
      "outputs": []
    },
    {
      "cell_type": "markdown",
      "source": [
        "#### **Visualizando diversas medidas dos dados**\n",
        "\n",
        "Pandas permite visualizar as principais medidas de todo o DataFrame de uma vez. Iremos nos aprofundar sobre cada uma dessas medidas estatística (*count*, *mean*, *std* etc.) ao longo do curso."
      ],
      "metadata": {
        "id": "IYhPfbHZMOCi"
      }
    },
    {
      "cell_type": "code",
      "metadata": {
        "id": "LPX8Oh5u-4fa"
      },
      "source": [
        "# A função describe() literalmente descreve várias medidas (linhas)\n",
        "# de um conjunto de dados a partir de suas variáveis (colunas)\n",
        "df.describe()"
      ],
      "execution_count": null,
      "outputs": []
    },
    {
      "cell_type": "markdown",
      "metadata": {
        "id": "X05ebC5yyl0Q"
      },
      "source": [
        "Esse resumo refere-se apenas a **dados numéricos**, já que dados categóricos (como o nome de uma pessoa, por exemplo) não constituem algo que possa ser quantificado.\n",
        "\n",
        "As variáveis que realmente importam são `Pclass`, `Age`, `SibSb`, `Parch` e `Fare`, uma vez que `PassengerID` e `Survived` identificam o número do passageiro e se ele sobreviveu  ou não (1 ou 0) ao desastre, respectivamente."
      ]
    },
    {
      "cell_type": "markdown",
      "source": [
        "#### **Características dos dados com boxplot**"
      ],
      "metadata": {
        "id": "SBrK0IKMM_qN"
      }
    },
    {
      "cell_type": "markdown",
      "metadata": {
        "id": "TcujVFoSzHK8"
      },
      "source": [
        "Também podemos ver um resumo dos principais dados em um gráfico do tipo **boxplot** (diagrama de caixa), um importante tipo de gráfico estatístico.\n",
        "\n",
        "Não se preocupe em entender a fundo o gráfico, mas procure pesquisar sobre. Você descobrirá que:\n",
        "\n",
        "- o retângulo escuro representa as medidas interquartis (conceito estatístico) dos dados;\n",
        "- a linha no meio do retângulo é a mediana (uma medida estatística);\n",
        "- a linha com duas perpendiculares indicam valores mínimo e máximo;\n",
        "- os pontos fora da linha indicam *outliers* (literalmente, \"pontos fora da linha\"), que normalmente exigem um bom tratamento, já que podem distorcer a característica de conjuntos de dados."
      ]
    },
    {
      "cell_type": "code",
      "metadata": {
        "id": "6S0xR99jxqI0"
      },
      "source": [
        "# Construindo boxplot com a distribuição das idades e dos valores das passagens\n",
        "fig, (axis1, axis2) = plt.subplots(2,1, figsize = (15,6))\n",
        "sns.boxplot(data = df, x = 'Age', ax = axis1)\n",
        "sns.boxplot(data = df, x = 'Fare', ax = axis2)\n",
        "\n",
        "plt.tight_layout()"
      ],
      "execution_count": null,
      "outputs": []
    },
    {
      "cell_type": "markdown",
      "source": [
        "#### **Proporção de sobreviventes por sexo**\n",
        "\n",
        "No caso a seguir, verificamos que a proporção de homens (*male*) que sobreviveu foi menor do que a mulheres (*female*):"
      ],
      "metadata": {
        "id": "E7Ig8ZMjOp2C"
      }
    },
    {
      "cell_type": "code",
      "source": [
        "fig, (axis1) = plt.subplots(1, figsize = (15,5))\n",
        "\n",
        "sns.barplot(data = df, x = 'Sex', y = 'Survived', ax = axis1)\n",
        "plt.tight_layout()"
      ],
      "metadata": {
        "id": "AI1RB5MLOJj-"
      },
      "execution_count": null,
      "outputs": []
    },
    {
      "cell_type": "markdown",
      "source": [
        "#### **Proporção de sobreviventes por classe**\n",
        "\n",
        "Uma análise ainda mais interessante é o número de sobreviventes por classe. O maior número de sobreviventes foi de passageiros da 1ª classe:"
      ],
      "metadata": {
        "id": "B6SrCFOIPT6Z"
      }
    },
    {
      "cell_type": "code",
      "source": [
        "fig, (axis1) = plt.subplots(1, figsize = (15,5))\n",
        "sns.barplot(data = df, x = 'Pclass', y = 'Survived', ax = axis1)\n",
        "\n",
        "plt.tight_layout()"
      ],
      "metadata": {
        "id": "_zSgiAErPZxY"
      },
      "execution_count": null,
      "outputs": []
    },
    {
      "cell_type": "markdown",
      "source": [
        "#### **Plotando mais variáveis juntas**\n",
        "\n",
        "Podemos juntar mais variáveis para plotar gráficos mais ricos, como sobrevientes por:\n",
        "\n",
        "1. idade;\n",
        "2. classe; e\n",
        "3. porto de embarque:"
      ],
      "metadata": {
        "id": "PM-y4H0HQ4XZ"
      }
    },
    {
      "cell_type": "code",
      "metadata": {
        "id": "rLz12pQKRHIU"
      },
      "source": [
        "# plotando gráfico com a visão das 3 variáveis\n",
        "fig, (axis1, axis2, axis3) = plt.subplots(1,3, figsize = (15,5))\n",
        "\n",
        "sns.barplot(data = df, x = 'Sex', y = 'Survived', ax = axis1)\n",
        "sns.barplot(data = df, x = 'Pclass', y = 'Survived', ax = axis2)\n",
        "sns.barplot(data = df, x = 'Embarked', y = 'Survived', ax = axis3)\n",
        "plt.tight_layout()"
      ],
      "execution_count": null,
      "outputs": []
    },
    {
      "cell_type": "markdown",
      "metadata": {
        "id": "xrpLb7u8d-Lm"
      },
      "source": [
        "A partir da análise dos três gráficos acima, podemos extrair algumas informações importantes:\n",
        "\n",
        "* As mulheres têm muito mais chances de sobreviverem (75%) do que os homens (18%).\n",
        "\n",
        "* Os passageiros que viajaram na 1ª classe possuem mais que o dobro de chances de sobreviverem em relação aos que viajaram na 3ª classe.\n",
        "\n",
        "* O maior número de sobreviventes é da cidade de Cherbourgsão, enquanto o menor número é de Southampton."
      ]
    },
    {
      "cell_type": "markdown",
      "metadata": {
        "id": "alt0GEsifxZT"
      },
      "source": [
        "#### **Sobrevivência detalhada por sexo**\n",
        "\n",
        "Mais mulheres sobreviveram  ao desastre do que homens se considerarmos casos individuais, as classes e as cidades de embarque:"
      ]
    },
    {
      "cell_type": "code",
      "metadata": {
        "id": "_B5Z-B2a4wKV"
      },
      "source": [
        "# Sobrevivência por sexo e classe\n",
        "sns.catplot(x = \"Sex\", y = \"Survived\", col = \"Pclass\", data = df, saturation = .5, kind = \"bar\", ci = None, aspect = 0.8)\n",
        "plt.tight_layout()"
      ],
      "execution_count": null,
      "outputs": []
    },
    {
      "cell_type": "code",
      "source": [
        "# Sobrevivência por sexo e porto de embarque\n",
        "sns.catplot(x = \"Sex\", y = \"Survived\", col = \"Embarked\", data = df, saturation = .5, kind = \"bar\", ci = None, aspect = 0.8)\n",
        "plt.tight_layout()"
      ],
      "metadata": {
        "id": "Q2xblc7PRhq_"
      },
      "execution_count": null,
      "outputs": []
    },
    {
      "cell_type": "markdown",
      "metadata": {
        "id": "9FqLXEm6gHG1"
      },
      "source": [
        "#### **Sobrevivência por idade dos passageiros**\n",
        "\n",
        "O gráfico à esquerda mostra os não sobreviventes por idade; o gráfico à esquerda mostra os sobreviventes por idade:"
      ]
    },
    {
      "cell_type": "code",
      "metadata": {
        "id": "RXJrtUabgrRL"
      },
      "source": [
        "sns.FacetGrid(df, col = 'Survived', height = 5).map(sns.distplot, 'Age')\n",
        "plt.tight_layout()"
      ],
      "execution_count": null,
      "outputs": []
    },
    {
      "cell_type": "markdown",
      "metadata": {
        "id": "qwFK-R39o9dr"
      },
      "source": [
        "Podemos perceber que a maior parte dos passageiros, sobreviventes ou não, possuiam idades entre 20 e 30 anos.\n",
        "\n",
        "No gráfico da direita (sobreviventes), podemos perceber que há um pico nos passageiros que possuem idade de até 5 anos, mostrando que crianças um pouco menores tiveram mais chance de sobrevivência.\n"
      ]
    },
    {
      "cell_type": "markdown",
      "source": [
        "#### **Correlação das variáveis**\n",
        "\n",
        "Por fim, mais um gráfico muito comum em análises estatísticas é o de correlação entre dados.\n",
        "\n",
        "Correlação entre variáveis é entender de que forma uma impacta em outra.\n",
        "\n",
        "A visualização gera um gráfico do tipo \"Mapa de Calor\" ou *heatmap*. Cores mais \"claras\" ou menos quentes representam baixa correlação. Cores mais \"fortes\" ou mais quentes representam alta correlação."
      ],
      "metadata": {
        "id": "3W4DVk9FSCed"
      }
    },
    {
      "cell_type": "code",
      "metadata": {
        "id": "vt0xrSy0hXJ-"
      },
      "source": [
        "fig, ax = plt.subplots(figsize = (8,6))\n",
        "ax = sns.heatmap(df.corr(), fmt = '.2g', cmap = 'Purples', annot= True)\n",
        "plt.tight_layout()"
      ],
      "execution_count": null,
      "outputs": []
    },
    {
      "cell_type": "markdown",
      "metadata": {
        "id": "13GTV9nLrdcN"
      },
      "source": [
        "As maiores correlações apresentadas foram entre as variáveis *Parch* (quantidade de pais e filhos a bordo) e *SibSp* (quantidade de cônjuges e irmãos a bordo), cujo valor é de 0,41."
      ]
    },
    {
      "cell_type": "markdown",
      "source": [
        "## **Considerações finais**\n",
        "\n",
        "Essa foi uma demonstração de análise de dados que podemos em Data Science.\n",
        "\n",
        "Este tipo de análise é muito comum seja para extrair *insights* de conjuntos de dados, seja para entender tais conjuntos e melhorá-los para o uso em algoritmos de aprendizado de máquina (Machine Learning).\n",
        "\n",
        "Sugerimos que você reveja esse notebook após a aula ou durante todo o curso como forma de fixar seus conceitos. Se você se sentir confiante, à medida que avança, pode voltar a essa demonstração e aprimorá-la com outras análises e visualizações dos dados."
      ],
      "metadata": {
        "id": "VU7ji1F2qmaY"
      }
    },
    {
      "cell_type": "markdown",
      "source": [
        "---\n",
        "\n",
        "Notebook utilizado para fins educacionais da **Awari**.\n",
        "\n",
        "**© AWARI. Todos os direitos reservados.**"
      ],
      "metadata": {
        "id": "lUAaf-NtVu2H"
      }
    }
  ]
}