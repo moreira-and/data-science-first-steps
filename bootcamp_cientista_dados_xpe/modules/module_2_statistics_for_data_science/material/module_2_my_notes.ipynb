{
 "cells": [
  {
   "cell_type": "markdown",
   "metadata": {},
   "source": [
    "Medidas de centralidade\n",
    "\n",
    "amostras u\n",
    "\n",
    "Média = somatória do valor de todas as amostras dividido pela contagem de amostras\n",
    "\n",
    "dispersao_dado_media = valor_amostra - média\n",
    "\n",
    "sigma = desvio_padrao = raiz quadrada(somatória de todas as medidas as dispersao_dado_media ao quadrado (módulo) pela contagem de amostras -1 para amostras e n para população)\n",
    "\n",
    "variância = desv.p ao quadrado\n",
    "\n",
    "coeficiente de variacao = desvio padrão por méria aritimética * 100\n",
    "\n",
    "Há outras medidas como a média geométrica, média harmônica, mas devido ao menor uso delas, fica a cargo do aluno interessado pesquisar a respeito.\n",
    "\n",
    "Quartis = fatia amostras em 4 partes iguais\n",
    "\n",
    "    Q1 = 25% ABAIXO => INFERIOR BOXPLOT\n",
    "\n",
    "    Q2 = 50% ABAIXO => CENTRO BOXPLOT\n",
    "\n",
    "    Q3 = 75% ABAIXO => SUPERIOR \n",
    "    \n",
    "    Q4 = limites inf + sup + outliers\n",
    "    \n",
    "    IQR = intervalo inter quartil = Q3-Q1\n",
    "\n",
    "    lim_inferior = Q1-1,5*IQR\n",
    "    \n",
    "    lim_superior = Q3+1,5*IQR\n"
   ]
  },
  {
   "cell_type": "markdown",
   "metadata": {},
   "source": []
  }
 ],
 "metadata": {
  "language_info": {
   "name": "python"
  }
 },
 "nbformat": 4,
 "nbformat_minor": 2
}
